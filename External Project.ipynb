{
 "cells": [
  {
   "cell_type": "code",
   "execution_count": 1,
   "id": "58dcaab0",
   "metadata": {},
   "outputs": [],
   "source": [
    "import pandas as pd\n",
    "import numpy as np"
   ]
  },
  {
   "cell_type": "code",
   "execution_count": 2,
   "id": "8a3728e0",
   "metadata": {},
   "outputs": [
    {
     "data": {
      "text/html": [
       "<div>\n",
       "<style scoped>\n",
       "    .dataframe tbody tr th:only-of-type {\n",
       "        vertical-align: middle;\n",
       "    }\n",
       "\n",
       "    .dataframe tbody tr th {\n",
       "        vertical-align: top;\n",
       "    }\n",
       "\n",
       "    .dataframe thead th {\n",
       "        text-align: right;\n",
       "    }\n",
       "</style>\n",
       "<table border=\"1\" class=\"dataframe\">\n",
       "  <thead>\n",
       "    <tr style=\"text-align: right;\">\n",
       "      <th></th>\n",
       "      <th>No.</th>\n",
       "      <th>Name of Principal Investigator / Project Leader</th>\n",
       "      <th>Name of the School</th>\n",
       "      <th>Prjoect's Status</th>\n",
       "      <th>Project Title</th>\n",
       "      <th>RELATED RESEARCH PROJECT / INNOVATION</th>\n",
       "      <th>Start Date</th>\n",
       "      <th>End Date</th>\n",
       "      <th>Length of Project (Months)</th>\n",
       "      <th>Kategori Projek (Knowledge / Technology Diffusion Projects)</th>\n",
       "      <th>Sponsor/ Funding Agency</th>\n",
       "      <th>Total Funding / Total Allocation (RM) approved</th>\n",
       "      <th>Total Funding from Community/Industry</th>\n",
       "      <th>Total Allocation received in the year assessed (RM)</th>\n",
       "      <th>Total Expenses in the assessed year (RM)</th>\n",
       "      <th>Star Rating</th>\n",
       "    </tr>\n",
       "  </thead>\n",
       "  <tbody>\n",
       "    <tr>\n",
       "      <th>0</th>\n",
       "      <td>1</td>\n",
       "      <td>Dr. Japareng Bin Lalung</td>\n",
       "      <td>Pusat Pengajian Teknologi Industri</td>\n",
       "      <td>Aktif</td>\n",
       "      <td>Empowering Students’ Leadership In Sustainable...</td>\n",
       "      <td>Education</td>\n",
       "      <td>3/31/2022</td>\n",
       "      <td>12/31/2022</td>\n",
       "      <td>10 bulan</td>\n",
       "      <td>Knowledge</td>\n",
       "      <td>Penang Education Council</td>\n",
       "      <td>RM0.00</td>\n",
       "      <td>RM12,200.00</td>\n",
       "      <td>RM12,200.00</td>\n",
       "      <td>NaN</td>\n",
       "      <td>3.0</td>\n",
       "    </tr>\n",
       "    <tr>\n",
       "      <th>1</th>\n",
       "      <td>2</td>\n",
       "      <td>Prof. Madya Dr. Aswati Binti Hamzah</td>\n",
       "      <td>Pusat Pengajian Ilmu Pendidikan</td>\n",
       "      <td>Aktif</td>\n",
       "      <td>Empowering Pre-School Teachers Knowledge Attit...</td>\n",
       "      <td>Education</td>\n",
       "      <td>6/1/2022</td>\n",
       "      <td>12/31/2022</td>\n",
       "      <td>6 bulan</td>\n",
       "      <td>Knowledge</td>\n",
       "      <td>Penang Education Council</td>\n",
       "      <td>RM0.00</td>\n",
       "      <td>RM11,950.00</td>\n",
       "      <td>RM11,950.00</td>\n",
       "      <td>NaN</td>\n",
       "      <td>3.0</td>\n",
       "    </tr>\n",
       "    <tr>\n",
       "      <th>2</th>\n",
       "      <td>3</td>\n",
       "      <td>Dr. Norsila Binti Abdul Wahab</td>\n",
       "      <td>Pusat Pengajian Sains Pergigian</td>\n",
       "      <td>Aktif</td>\n",
       "      <td>Penanaman Cendawan di MACMA Kelantan Bagi Memb...</td>\n",
       "      <td>Pertanian</td>\n",
       "      <td>6/1/2022</td>\n",
       "      <td>5/31/2023</td>\n",
       "      <td>12 bulan</td>\n",
       "      <td>Knowledge</td>\n",
       "      <td>Majlis Mesyuarat Kerajaan Negeri Kelantan</td>\n",
       "      <td>RM0.00</td>\n",
       "      <td>RM20,000.00</td>\n",
       "      <td>RM20,000.00</td>\n",
       "      <td>NaN</td>\n",
       "      <td>3.0</td>\n",
       "    </tr>\n",
       "    <tr>\n",
       "      <th>3</th>\n",
       "      <td>4</td>\n",
       "      <td>Dr. Syazwani Binti Drani</td>\n",
       "      <td>Pusat Pengajian Sains Kemasyarakatan</td>\n",
       "      <td>Aktif</td>\n",
       "      <td>Pertubuhan Pemulihan Dalam Komuniti (PPDK)</td>\n",
       "      <td>OKU</td>\n",
       "      <td>2/24/2022</td>\n",
       "      <td>4/23/2023</td>\n",
       "      <td>12 bulan</td>\n",
       "      <td>Knowledge</td>\n",
       "      <td>Jabatan Kebajikan Masyarakat Negeri Pulau Pinang</td>\n",
       "      <td>RM0.00</td>\n",
       "      <td>RM173,727.00</td>\n",
       "      <td>RM173,727.00</td>\n",
       "      <td>NaN</td>\n",
       "      <td>3.0</td>\n",
       "    </tr>\n",
       "    <tr>\n",
       "      <th>4</th>\n",
       "      <td>5</td>\n",
       "      <td>Prof. Madya Dr. Mohd Hafizal Mohd Isa</td>\n",
       "      <td>Pusat Pengajian Perumahan Bangunan &amp; Perancangan</td>\n",
       "      <td>Aktif</td>\n",
       "      <td>USM-Fuze-Ecoteer</td>\n",
       "      <td>Persekitaran</td>\n",
       "      <td>5/13/2022</td>\n",
       "      <td>12/13/2022</td>\n",
       "      <td>6 bulan</td>\n",
       "      <td>Knowledge</td>\n",
       "      <td>Glocal Travel Umrah &amp; Tours</td>\n",
       "      <td>RM0.00</td>\n",
       "      <td>RM10,000.00</td>\n",
       "      <td>RM10,000.00</td>\n",
       "      <td>NaN</td>\n",
       "      <td>3.0</td>\n",
       "    </tr>\n",
       "  </tbody>\n",
       "</table>\n",
       "</div>"
      ],
      "text/plain": [
       "   No. Name of Principal Investigator / Project Leader  \\\n",
       "0    1                         Dr. Japareng Bin Lalung   \n",
       "1    2             Prof. Madya Dr. Aswati Binti Hamzah   \n",
       "2    3                   Dr. Norsila Binti Abdul Wahab   \n",
       "3    4                        Dr. Syazwani Binti Drani   \n",
       "4    5           Prof. Madya Dr. Mohd Hafizal Mohd Isa   \n",
       "\n",
       "                                 Name of the School Prjoect's Status  \\\n",
       "0                Pusat Pengajian Teknologi Industri            Aktif   \n",
       "1                  Pusat Pengajian Ilmu Pendidikan             Aktif   \n",
       "2                   Pusat Pengajian Sains Pergigian            Aktif   \n",
       "3              Pusat Pengajian Sains Kemasyarakatan            Aktif   \n",
       "4  Pusat Pengajian Perumahan Bangunan & Perancangan            Aktif   \n",
       "\n",
       "                                       Project Title  \\\n",
       "0  Empowering Students’ Leadership In Sustainable...   \n",
       "1  Empowering Pre-School Teachers Knowledge Attit...   \n",
       "2  Penanaman Cendawan di MACMA Kelantan Bagi Memb...   \n",
       "3         Pertubuhan Pemulihan Dalam Komuniti (PPDK)   \n",
       "4                                   USM-Fuze-Ecoteer   \n",
       "\n",
       "  RELATED RESEARCH PROJECT / INNOVATION Start Date    End Date  \\\n",
       "0                             Education  3/31/2022  12/31/2022   \n",
       "1                             Education   6/1/2022  12/31/2022   \n",
       "2                             Pertanian   6/1/2022   5/31/2023   \n",
       "3                                   OKU  2/24/2022   4/23/2023   \n",
       "4                          Persekitaran  5/13/2022  12/13/2022   \n",
       "\n",
       "  Length of Project (Months)  \\\n",
       "0                   10 bulan   \n",
       "1                    6 bulan   \n",
       "2                   12 bulan   \n",
       "3                   12 bulan   \n",
       "4                    6 bulan   \n",
       "\n",
       "  Kategori Projek (Knowledge / Technology Diffusion Projects)  \\\n",
       "0                                          Knowledge            \n",
       "1                                          Knowledge            \n",
       "2                                          Knowledge            \n",
       "3                                          Knowledge            \n",
       "4                                          Knowledge            \n",
       "\n",
       "                            Sponsor/ Funding Agency  \\\n",
       "0                          Penang Education Council   \n",
       "1                          Penang Education Council   \n",
       "2         Majlis Mesyuarat Kerajaan Negeri Kelantan   \n",
       "3  Jabatan Kebajikan Masyarakat Negeri Pulau Pinang   \n",
       "4                      Glocal Travel Umrah & Tours    \n",
       "\n",
       "  Total Funding / Total Allocation (RM) approved  \\\n",
       "0                                         RM0.00   \n",
       "1                                         RM0.00   \n",
       "2                                         RM0.00   \n",
       "3                                         RM0.00   \n",
       "4                                         RM0.00   \n",
       "\n",
       "  Total Funding from Community/Industry  \\\n",
       "0                           RM12,200.00   \n",
       "1                           RM11,950.00   \n",
       "2                           RM20,000.00   \n",
       "3                          RM173,727.00   \n",
       "4                           RM10,000.00   \n",
       "\n",
       "  Total Allocation received in the year assessed (RM)  \\\n",
       "0                                        RM12,200.00    \n",
       "1                                        RM11,950.00    \n",
       "2                                        RM20,000.00    \n",
       "3                                       RM173,727.00    \n",
       "4                                        RM10,000.00    \n",
       "\n",
       "   Total Expenses in the assessed year (RM)  Star Rating  \n",
       "0                                       NaN          3.0  \n",
       "1                                       NaN          3.0  \n",
       "2                                       NaN          3.0  \n",
       "3                                       NaN          3.0  \n",
       "4                                       NaN          3.0  "
      ]
     },
     "execution_count": 2,
     "metadata": {},
     "output_type": "execute_result"
    }
   ],
   "source": [
    "df=pd.read_csv(\"Desktop/External.csv\")\n",
    "df.head()"
   ]
  },
  {
   "cell_type": "code",
   "execution_count": 3,
   "id": "958ab210",
   "metadata": {},
   "outputs": [
    {
     "name": "stdout",
     "output_type": "stream",
     "text": [
      "<class 'pandas.core.frame.DataFrame'>\n",
      "RangeIndex: 91 entries, 0 to 90\n",
      "Data columns (total 16 columns):\n",
      " #   Column                                                       Non-Null Count  Dtype  \n",
      "---  ------                                                       --------------  -----  \n",
      " 0   No.                                                          91 non-null     int64  \n",
      " 1   Name of Principal Investigator / Project Leader              91 non-null     object \n",
      " 2   Name of the School                                           42 non-null     object \n",
      " 3   Prjoect's Status                                             91 non-null     object \n",
      " 4   Project Title                                                91 non-null     object \n",
      " 5   RELATED RESEARCH PROJECT / INNOVATION                        42 non-null     object \n",
      " 6   Start Date                                                   91 non-null     object \n",
      " 7   End Date                                                     91 non-null     object \n",
      " 8   Length of Project (Months)                                   91 non-null     object \n",
      " 9   Kategori Projek (Knowledge / Technology Diffusion Projects)  25 non-null     object \n",
      " 10  Sponsor/ Funding Agency                                      91 non-null     object \n",
      " 11  Total Funding / Total Allocation (RM) approved               74 non-null     object \n",
      " 12  Total Funding from Community/Industry                        42 non-null     object \n",
      " 13  Total Allocation received in the year assessed (RM)          42 non-null     object \n",
      " 14  Total Expenses in the assessed year (RM)                     0 non-null      float64\n",
      " 15  Star Rating                                                  25 non-null     float64\n",
      "dtypes: float64(2), int64(1), object(13)\n",
      "memory usage: 11.5+ KB\n"
     ]
    }
   ],
   "source": [
    "# Get information about the dataset\n",
    "df.info()"
   ]
  },
  {
   "cell_type": "code",
   "execution_count": 4,
   "id": "637cbc79",
   "metadata": {},
   "outputs": [
    {
     "data": {
      "text/html": [
       "<div>\n",
       "<style scoped>\n",
       "    .dataframe tbody tr th:only-of-type {\n",
       "        vertical-align: middle;\n",
       "    }\n",
       "\n",
       "    .dataframe tbody tr th {\n",
       "        vertical-align: top;\n",
       "    }\n",
       "\n",
       "    .dataframe thead th {\n",
       "        text-align: right;\n",
       "    }\n",
       "</style>\n",
       "<table border=\"1\" class=\"dataframe\">\n",
       "  <thead>\n",
       "    <tr style=\"text-align: right;\">\n",
       "      <th></th>\n",
       "      <th>No.</th>\n",
       "      <th>Total Expenses in the assessed year (RM)</th>\n",
       "      <th>Star Rating</th>\n",
       "    </tr>\n",
       "  </thead>\n",
       "  <tbody>\n",
       "    <tr>\n",
       "      <th>count</th>\n",
       "      <td>91.00000</td>\n",
       "      <td>0.0</td>\n",
       "      <td>25.00</td>\n",
       "    </tr>\n",
       "    <tr>\n",
       "      <th>mean</th>\n",
       "      <td>46.00000</td>\n",
       "      <td>NaN</td>\n",
       "      <td>3.08</td>\n",
       "    </tr>\n",
       "    <tr>\n",
       "      <th>std</th>\n",
       "      <td>26.41338</td>\n",
       "      <td>NaN</td>\n",
       "      <td>0.40</td>\n",
       "    </tr>\n",
       "    <tr>\n",
       "      <th>min</th>\n",
       "      <td>1.00000</td>\n",
       "      <td>NaN</td>\n",
       "      <td>3.00</td>\n",
       "    </tr>\n",
       "    <tr>\n",
       "      <th>25%</th>\n",
       "      <td>23.50000</td>\n",
       "      <td>NaN</td>\n",
       "      <td>3.00</td>\n",
       "    </tr>\n",
       "    <tr>\n",
       "      <th>50%</th>\n",
       "      <td>46.00000</td>\n",
       "      <td>NaN</td>\n",
       "      <td>3.00</td>\n",
       "    </tr>\n",
       "    <tr>\n",
       "      <th>75%</th>\n",
       "      <td>68.50000</td>\n",
       "      <td>NaN</td>\n",
       "      <td>3.00</td>\n",
       "    </tr>\n",
       "    <tr>\n",
       "      <th>max</th>\n",
       "      <td>91.00000</td>\n",
       "      <td>NaN</td>\n",
       "      <td>5.00</td>\n",
       "    </tr>\n",
       "  </tbody>\n",
       "</table>\n",
       "</div>"
      ],
      "text/plain": [
       "            No.  Total Expenses in the assessed year (RM)  Star Rating\n",
       "count  91.00000                                       0.0        25.00\n",
       "mean   46.00000                                       NaN         3.08\n",
       "std    26.41338                                       NaN         0.40\n",
       "min     1.00000                                       NaN         3.00\n",
       "25%    23.50000                                       NaN         3.00\n",
       "50%    46.00000                                       NaN         3.00\n",
       "75%    68.50000                                       NaN         3.00\n",
       "max    91.00000                                       NaN         5.00"
      ]
     },
     "execution_count": 4,
     "metadata": {},
     "output_type": "execute_result"
    }
   ],
   "source": [
    "# Summary statistics of the dataset\n",
    "df.describe()\n"
   ]
  },
  {
   "cell_type": "code",
   "execution_count": 5,
   "id": "983b5b23",
   "metadata": {},
   "outputs": [
    {
     "data": {
      "text/plain": [
       "No.                                                             0\n",
       "Name of Principal Investigator / Project Leader                 0\n",
       "Name of the School                                             49\n",
       "Prjoect's Status                                                0\n",
       "Project Title                                                   0\n",
       "RELATED RESEARCH PROJECT / INNOVATION                          49\n",
       "Start Date                                                      0\n",
       "End Date                                                        0\n",
       "Length of Project (Months)                                      0\n",
       "Kategori Projek (Knowledge / Technology Diffusion Projects)    66\n",
       "Sponsor/ Funding Agency                                         0\n",
       "Total Funding / Total Allocation (RM) approved                 17\n",
       "Total Funding from Community/Industry                          49\n",
       "Total Allocation received in the year assessed (RM)            49\n",
       "Total Expenses in the assessed year (RM)                       91\n",
       "Star Rating                                                    66\n",
       "dtype: int64"
      ]
     },
     "execution_count": 5,
     "metadata": {},
     "output_type": "execute_result"
    }
   ],
   "source": [
    "# Check for missing values\n",
    "df.isnull().sum()"
   ]
  },
  {
   "cell_type": "markdown",
   "id": "6d24fd6f",
   "metadata": {},
   "source": [
    "# Preprocessing Data"
   ]
  },
  {
   "cell_type": "code",
   "execution_count": 6,
   "id": "6007982b",
   "metadata": {},
   "outputs": [],
   "source": [
    "# Assume 'Prjoect's Status' is the column where we want to change \"Aktif\" to \"Active\"\n",
    "df['Prjoect\\'s Status'] = df['Prjoect\\'s Status'].replace('Aktif', 'Active')\n",
    "df.replace('Aktif', 'Active', inplace=True)"
   ]
  },
  {
   "cell_type": "code",
   "execution_count": 7,
   "id": "1be98a97",
   "metadata": {},
   "outputs": [],
   "source": [
    "# Save the preprocessed DataFrame to a new CSV file\n",
    "df.to_csv('Desktop/Preprocessed_External.csv', index=False)\n"
   ]
  },
  {
   "cell_type": "code",
   "execution_count": 8,
   "id": "b85fc8cb",
   "metadata": {},
   "outputs": [
    {
     "data": {
      "text/html": [
       "<div>\n",
       "<style scoped>\n",
       "    .dataframe tbody tr th:only-of-type {\n",
       "        vertical-align: middle;\n",
       "    }\n",
       "\n",
       "    .dataframe tbody tr th {\n",
       "        vertical-align: top;\n",
       "    }\n",
       "\n",
       "    .dataframe thead th {\n",
       "        text-align: right;\n",
       "    }\n",
       "</style>\n",
       "<table border=\"1\" class=\"dataframe\">\n",
       "  <thead>\n",
       "    <tr style=\"text-align: right;\">\n",
       "      <th></th>\n",
       "      <th>No.</th>\n",
       "      <th>Name of Principal Investigator / Project Leader</th>\n",
       "      <th>Name of the School</th>\n",
       "      <th>Prjoect's Status</th>\n",
       "      <th>Project Title</th>\n",
       "      <th>RELATED RESEARCH PROJECT / INNOVATION</th>\n",
       "      <th>Start Date</th>\n",
       "      <th>End Date</th>\n",
       "      <th>Length of Project (Months)</th>\n",
       "      <th>Kategori Projek (Knowledge / Technology Diffusion Projects)</th>\n",
       "      <th>Sponsor/ Funding Agency</th>\n",
       "      <th>Total Funding / Total Allocation (RM) approved</th>\n",
       "      <th>Total Funding from Community/Industry</th>\n",
       "      <th>Total Allocation received in the year assessed (RM)</th>\n",
       "      <th>Total Expenses in the assessed year (RM)</th>\n",
       "      <th>Star Rating</th>\n",
       "    </tr>\n",
       "  </thead>\n",
       "  <tbody>\n",
       "    <tr>\n",
       "      <th>0</th>\n",
       "      <td>1</td>\n",
       "      <td>Dr. Japareng Bin Lalung</td>\n",
       "      <td>Pusat Pengajian Teknologi Industri</td>\n",
       "      <td>Active</td>\n",
       "      <td>Empowering Students’ Leadership In Sustainable...</td>\n",
       "      <td>Education</td>\n",
       "      <td>3/31/2022</td>\n",
       "      <td>12/31/2022</td>\n",
       "      <td>10 bulan</td>\n",
       "      <td>Knowledge</td>\n",
       "      <td>Penang Education Council</td>\n",
       "      <td>RM0.00</td>\n",
       "      <td>RM12,200.00</td>\n",
       "      <td>RM12,200.00</td>\n",
       "      <td>NaN</td>\n",
       "      <td>3.0</td>\n",
       "    </tr>\n",
       "    <tr>\n",
       "      <th>1</th>\n",
       "      <td>2</td>\n",
       "      <td>Prof. Madya Dr. Aswati Binti Hamzah</td>\n",
       "      <td>Pusat Pengajian Ilmu Pendidikan</td>\n",
       "      <td>Active</td>\n",
       "      <td>Empowering Pre-School Teachers Knowledge Attit...</td>\n",
       "      <td>Education</td>\n",
       "      <td>6/1/2022</td>\n",
       "      <td>12/31/2022</td>\n",
       "      <td>6 bulan</td>\n",
       "      <td>Knowledge</td>\n",
       "      <td>Penang Education Council</td>\n",
       "      <td>RM0.00</td>\n",
       "      <td>RM11,950.00</td>\n",
       "      <td>RM11,950.00</td>\n",
       "      <td>NaN</td>\n",
       "      <td>3.0</td>\n",
       "    </tr>\n",
       "    <tr>\n",
       "      <th>2</th>\n",
       "      <td>3</td>\n",
       "      <td>Dr. Norsila Binti Abdul Wahab</td>\n",
       "      <td>Pusat Pengajian Sains Pergigian</td>\n",
       "      <td>Active</td>\n",
       "      <td>Penanaman Cendawan di MACMA Kelantan Bagi Memb...</td>\n",
       "      <td>Pertanian</td>\n",
       "      <td>6/1/2022</td>\n",
       "      <td>5/31/2023</td>\n",
       "      <td>12 bulan</td>\n",
       "      <td>Knowledge</td>\n",
       "      <td>Majlis Mesyuarat Kerajaan Negeri Kelantan</td>\n",
       "      <td>RM0.00</td>\n",
       "      <td>RM20,000.00</td>\n",
       "      <td>RM20,000.00</td>\n",
       "      <td>NaN</td>\n",
       "      <td>3.0</td>\n",
       "    </tr>\n",
       "    <tr>\n",
       "      <th>3</th>\n",
       "      <td>4</td>\n",
       "      <td>Dr. Syazwani Binti Drani</td>\n",
       "      <td>Pusat Pengajian Sains Kemasyarakatan</td>\n",
       "      <td>Active</td>\n",
       "      <td>Pertubuhan Pemulihan Dalam Komuniti (PPDK)</td>\n",
       "      <td>OKU</td>\n",
       "      <td>2/24/2022</td>\n",
       "      <td>4/23/2023</td>\n",
       "      <td>12 bulan</td>\n",
       "      <td>Knowledge</td>\n",
       "      <td>Jabatan Kebajikan Masyarakat Negeri Pulau Pinang</td>\n",
       "      <td>RM0.00</td>\n",
       "      <td>RM173,727.00</td>\n",
       "      <td>RM173,727.00</td>\n",
       "      <td>NaN</td>\n",
       "      <td>3.0</td>\n",
       "    </tr>\n",
       "    <tr>\n",
       "      <th>4</th>\n",
       "      <td>5</td>\n",
       "      <td>Prof. Madya Dr. Mohd Hafizal Mohd Isa</td>\n",
       "      <td>Pusat Pengajian Perumahan Bangunan &amp; Perancangan</td>\n",
       "      <td>Active</td>\n",
       "      <td>USM-Fuze-Ecoteer</td>\n",
       "      <td>Persekitaran</td>\n",
       "      <td>5/13/2022</td>\n",
       "      <td>12/13/2022</td>\n",
       "      <td>6 bulan</td>\n",
       "      <td>Knowledge</td>\n",
       "      <td>Glocal Travel Umrah &amp; Tours</td>\n",
       "      <td>RM0.00</td>\n",
       "      <td>RM10,000.00</td>\n",
       "      <td>RM10,000.00</td>\n",
       "      <td>NaN</td>\n",
       "      <td>3.0</td>\n",
       "    </tr>\n",
       "  </tbody>\n",
       "</table>\n",
       "</div>"
      ],
      "text/plain": [
       "   No. Name of Principal Investigator / Project Leader  \\\n",
       "0    1                         Dr. Japareng Bin Lalung   \n",
       "1    2             Prof. Madya Dr. Aswati Binti Hamzah   \n",
       "2    3                   Dr. Norsila Binti Abdul Wahab   \n",
       "3    4                        Dr. Syazwani Binti Drani   \n",
       "4    5           Prof. Madya Dr. Mohd Hafizal Mohd Isa   \n",
       "\n",
       "                                 Name of the School Prjoect's Status  \\\n",
       "0                Pusat Pengajian Teknologi Industri           Active   \n",
       "1                  Pusat Pengajian Ilmu Pendidikan            Active   \n",
       "2                   Pusat Pengajian Sains Pergigian           Active   \n",
       "3              Pusat Pengajian Sains Kemasyarakatan           Active   \n",
       "4  Pusat Pengajian Perumahan Bangunan & Perancangan           Active   \n",
       "\n",
       "                                       Project Title  \\\n",
       "0  Empowering Students’ Leadership In Sustainable...   \n",
       "1  Empowering Pre-School Teachers Knowledge Attit...   \n",
       "2  Penanaman Cendawan di MACMA Kelantan Bagi Memb...   \n",
       "3         Pertubuhan Pemulihan Dalam Komuniti (PPDK)   \n",
       "4                                   USM-Fuze-Ecoteer   \n",
       "\n",
       "  RELATED RESEARCH PROJECT / INNOVATION Start Date    End Date  \\\n",
       "0                             Education  3/31/2022  12/31/2022   \n",
       "1                             Education   6/1/2022  12/31/2022   \n",
       "2                             Pertanian   6/1/2022   5/31/2023   \n",
       "3                                   OKU  2/24/2022   4/23/2023   \n",
       "4                          Persekitaran  5/13/2022  12/13/2022   \n",
       "\n",
       "  Length of Project (Months)  \\\n",
       "0                   10 bulan   \n",
       "1                    6 bulan   \n",
       "2                   12 bulan   \n",
       "3                   12 bulan   \n",
       "4                    6 bulan   \n",
       "\n",
       "  Kategori Projek (Knowledge / Technology Diffusion Projects)  \\\n",
       "0                                          Knowledge            \n",
       "1                                          Knowledge            \n",
       "2                                          Knowledge            \n",
       "3                                          Knowledge            \n",
       "4                                          Knowledge            \n",
       "\n",
       "                            Sponsor/ Funding Agency  \\\n",
       "0                          Penang Education Council   \n",
       "1                          Penang Education Council   \n",
       "2         Majlis Mesyuarat Kerajaan Negeri Kelantan   \n",
       "3  Jabatan Kebajikan Masyarakat Negeri Pulau Pinang   \n",
       "4                      Glocal Travel Umrah & Tours    \n",
       "\n",
       "  Total Funding / Total Allocation (RM) approved  \\\n",
       "0                                         RM0.00   \n",
       "1                                         RM0.00   \n",
       "2                                         RM0.00   \n",
       "3                                         RM0.00   \n",
       "4                                         RM0.00   \n",
       "\n",
       "  Total Funding from Community/Industry  \\\n",
       "0                           RM12,200.00   \n",
       "1                           RM11,950.00   \n",
       "2                           RM20,000.00   \n",
       "3                          RM173,727.00   \n",
       "4                           RM10,000.00   \n",
       "\n",
       "  Total Allocation received in the year assessed (RM)  \\\n",
       "0                                        RM12,200.00    \n",
       "1                                        RM11,950.00    \n",
       "2                                        RM20,000.00    \n",
       "3                                       RM173,727.00    \n",
       "4                                        RM10,000.00    \n",
       "\n",
       "   Total Expenses in the assessed year (RM)  Star Rating  \n",
       "0                                       NaN          3.0  \n",
       "1                                       NaN          3.0  \n",
       "2                                       NaN          3.0  \n",
       "3                                       NaN          3.0  \n",
       "4                                       NaN          3.0  "
      ]
     },
     "execution_count": 8,
     "metadata": {},
     "output_type": "execute_result"
    }
   ],
   "source": [
    "df=pd.read_csv(\"Desktop/Preprocessed_External.csv\")\n",
    "df.head()"
   ]
  },
  {
   "cell_type": "code",
   "execution_count": 9,
   "id": "15f77981",
   "metadata": {},
   "outputs": [
    {
     "name": "stdout",
     "output_type": "stream",
     "text": [
      "Data preprocessing completed successfully!\n"
     ]
    },
    {
     "name": "stderr",
     "output_type": "stream",
     "text": [
      "C:\\Users\\Setu\\anaconda3\\lib\\site-packages\\sklearn\\utils\\extmath.py:1047: RuntimeWarning: invalid value encountered in divide\n",
      "  updated_mean = (last_sum + new_sum) / updated_sample_count\n",
      "C:\\Users\\Setu\\anaconda3\\lib\\site-packages\\sklearn\\utils\\extmath.py:1052: RuntimeWarning: invalid value encountered in divide\n",
      "  T = new_sum / new_sample_count\n",
      "C:\\Users\\Setu\\anaconda3\\lib\\site-packages\\sklearn\\utils\\extmath.py:1072: RuntimeWarning: invalid value encountered in divide\n",
      "  new_unnormalized_variance -= correction**2 / new_sample_count\n"
     ]
    }
   ],
   "source": [
    "import pandas as pd\n",
    "from sklearn.model_selection import train_test_split\n",
    "from sklearn.preprocessing import StandardScaler\n",
    "\n",
    "# Load the dataset\n",
    "file_path = 'Desktop/Preprocessed_External.csv'\n",
    "df = pd.read_csv(file_path)\n",
    "\n",
    "# Specify the target column\n",
    "target = 'Total Funding from Community/Industry'  # Replace with your target column\n",
    "\n",
    "# Features and target split\n",
    "X = df.drop(columns=[target])  # Input features\n",
    "y = df[target]  # Target column\n",
    "\n",
    "X = df.loc[:, df.columns != target]  # All columns except the target\n",
    "y = df[target]  # The target column\n",
    "\n",
    "\n",
    "# Convert categorical variables (if any) to numerical\n",
    "X = pd.get_dummies(X, drop_first=True)\n",
    "\n",
    "# Split the dataset into training and testing sets\n",
    "X_train, X_test, y_train, y_test = train_test_split(X, y, test_size=0.2, random_state=42)\n",
    "\n",
    "# Standardize numerical features (optional, depending on your model)\n",
    "scaler = StandardScaler()\n",
    "X_train = scaler.fit_transform(X_train)\n",
    "X_test = scaler.transform(X_test)\n",
    "\n",
    "print(\"Data preprocessing completed successfully!\")\n"
   ]
  },
  {
   "cell_type": "markdown",
   "id": "3de29f98",
   "metadata": {},
   "source": [
    "# Cost Analysis"
   ]
  },
  {
   "cell_type": "code",
   "execution_count": 10,
   "id": "d62f3b98",
   "metadata": {},
   "outputs": [],
   "source": [
    "# Define additional gain functions\n",
    "def additional_gain_through_classifier(tp, fp, fn, tn, total_projects):\n",
    "    \"\"\"Calculate the gain achieved by using the classifier over blind investment.\"\"\"\n",
    "    cost_with_classifier = cost_classifier(tp, fp, fn, tn)\n",
    "    cost_blind = cost_blind_invest(total_projects)\n",
    "    return cost_blind - cost_with_classifier\n",
    "\n",
    "def fraction_of_possible_gain_through_classifier(tp, fp, fn, tn, total_projects):\n",
    "    \"\"\"Calculate the fraction of possible gain achieved by using the classifier.\"\"\"\n",
    "    gain_with_classifier = additional_gain_through_classifier(tp, fp, fn, tn, total_projects)\n",
    "    max_possible_gain = cost_blind_invest(total_projects) - cost_blind_not_invest(total_projects)\n",
    "    return gain_with_classifier / max_possible_gain if max_possible_gain != 0 else 0\n"
   ]
  },
  {
   "cell_type": "code",
   "execution_count": 11,
   "id": "c25ecf9b",
   "metadata": {},
   "outputs": [],
   "source": [
    "# Define additional gain functions\n",
    "def additional_gain_through_classifier(tp, fp, fn, tn, total_projects):\n",
    "    \"\"\"Calculate the gain achieved by using the classifier over blind investment.\"\"\"\n",
    "    cost_with_classifier = cost_classifier(tp, fp, fn, tn)\n",
    "    cost_blind = cost_blind_invest(total_projects)\n",
    "    return cost_blind - cost_with_classifier\n",
    "\n",
    "def fraction_of_possible_gain_through_classifier(tp, fp, fn, tn, total_projects):\n",
    "    \"\"\"Calculate the fraction of possible gain achieved by using the classifier.\"\"\"\n",
    "    gain_with_classifier = additional_gain_through_classifier(tp, fp, fn, tn, total_projects)\n",
    "    max_possible_gain = cost_blind_invest(total_projects) - cost_blind_not_invest(total_projects)\n",
    "    return gain_with_classifier / max_possible_gain if max_possible_gain != 0 else 0\n"
   ]
  },
  {
   "cell_type": "code",
   "execution_count": 12,
   "id": "e95e4e3a",
   "metadata": {},
   "outputs": [
    {
     "name": "stdout",
     "output_type": "stream",
     "text": [
      "Cost with Classifier: 100000\n",
      "Cost with Blind Investment: 1000000\n",
      "Cost with Blind Non-Investment: 700000\n",
      "Gain through Classifier: 900000\n",
      "Fraction of Possible Gain through Classifier: 3.0\n"
     ]
    }
   ],
   "source": [
    "# Define the cost with classifier\n",
    "def cost_classifier(tp, fp, fn, tn):\n",
    "    # Assume costs for false positives (fp) and false negatives (fn)\n",
    "    cost_fp = 5000  # Cost of a false positive\n",
    "    cost_fn = 10000  # Cost of a false negative\n",
    "    return (fp * cost_fp) + (fn * cost_fn)\n",
    "\n",
    "# Define the cost with blind investment\n",
    "def cost_blind_invest(total_projects):\n",
    "    # Assume a loss for investing blindly in all projects\n",
    "    cost_per_project = 10000\n",
    "    return total_projects * cost_per_project\n",
    "\n",
    "# Define the cost with blind non-investment\n",
    "def cost_blind_not_invest(total_projects):\n",
    "    # Assume a missed opportunity cost for not investing\n",
    "    missed_opportunity_per_project = 7000\n",
    "    return total_projects * missed_opportunity_per_project\n",
    "\n",
    "# Calculate additional gain through classifier\n",
    "def additional_gain_through_classifier(tp, fp, fn, tn, total_projects):\n",
    "    cost_with_classifier = cost_classifier(tp, fp, fn, tn)\n",
    "    cost_blind = cost_blind_invest(total_projects)\n",
    "    return cost_blind - cost_with_classifier\n",
    "\n",
    "# Fraction of possible gain through classifier\n",
    "def fraction_of_possible_gain_through_classifier(tp, fp, fn, tn, total_projects):\n",
    "    gain_with_classifier = additional_gain_through_classifier(tp, fp, fn, tn, total_projects)\n",
    "    cost_blind = cost_blind_invest(total_projects)\n",
    "    cost_blind_not = cost_blind_not_invest(total_projects)\n",
    "    total_possible_gain = abs(cost_blind - cost_blind_not)\n",
    "    return gain_with_classifier / total_possible_gain if total_possible_gain != 0 else 0\n",
    "\n",
    "# Example input values\n",
    "total_projects = 100  # Total projects in the dataset\n",
    "tp = 40  # True positives\n",
    "fp = 10  # False positives\n",
    "fn = 5   # False negatives\n",
    "tn = 45  # True negatives\n",
    "\n",
    "# Calculate costs\n",
    "classifier_cost = cost_classifier(tp, fp, fn, tn)\n",
    "blind_invest_cost = cost_blind_invest(total_projects)\n",
    "blind_not_invest_cost = cost_blind_not_invest(total_projects)\n",
    "\n",
    "# Calculate gains\n",
    "gain_through_classifier = additional_gain_through_classifier(tp, fp, fn, tn, total_projects)\n",
    "gain_fraction = fraction_of_possible_gain_through_classifier(tp, fp, fn, tn, total_projects)\n",
    "\n",
    "# Print results\n",
    "print(\"Cost with Classifier:\", classifier_cost)\n",
    "print(\"Cost with Blind Investment:\", blind_invest_cost)\n",
    "print(\"Cost with Blind Non-Investment:\", blind_not_invest_cost)\n",
    "print(\"Gain through Classifier:\", gain_through_classifier)\n",
    "print(\"Fraction of Possible Gain through Classifier:\", gain_fraction)\n"
   ]
  },
  {
   "cell_type": "markdown",
   "id": "7811919c",
   "metadata": {},
   "source": [
    "# Train-testing data"
   ]
  },
  {
   "cell_type": "code",
   "execution_count": 13,
   "id": "a867bd29",
   "metadata": {},
   "outputs": [],
   "source": [
    "# Drop rows with missing values in the target column\n",
    "df = df.dropna(subset=[target])\n",
    "\n",
    "# Re-split the data\n",
    "X = df.drop(columns=[target])\n",
    "y = df[target]\n",
    "\n",
    "# Convert categorical variables to numerical\n",
    "X = pd.get_dummies(X, drop_first=True)\n",
    "\n",
    "# Train-test split\n",
    "X_train, X_test, y_train, y_test = train_test_split(X, y, test_size=0.2, random_state=42)\n"
   ]
  },
  {
   "cell_type": "code",
   "execution_count": 14,
   "id": "80f9d7b4",
   "metadata": {},
   "outputs": [],
   "source": [
    "# Remove 'RM' and commas, then convert to numeric\n",
    "df[target] = df[target].str.replace('RM', '', regex=False)  # Remove 'RM'\n",
    "df[target] = df[target].str.replace(',', '', regex=False)  # Remove commas\n",
    "df[target] = pd.to_numeric(df[target], errors='coerce')    # Convert to numeric\n",
    "\n",
    "# Fill missing values in the target column with the median\n",
    "df[target] = df[target].fillna(df[target].median())\n",
    "\n",
    "# Re-split the data\n",
    "X = df.drop(columns=[target])\n",
    "y = df[target]\n",
    "\n",
    "# Convert categorical variables to numerical\n",
    "X = pd.get_dummies(X, drop_first=True)\n",
    "\n",
    "# Train-test split\n",
    "X_train, X_test, y_train, y_test = train_test_split(X, y, test_size=0.2, random_state=42)\n"
   ]
  },
  {
   "cell_type": "code",
   "execution_count": 15,
   "id": "a3f6476b",
   "metadata": {},
   "outputs": [
    {
     "name": "stdout",
     "output_type": "stream",
     "text": [
      "    No.  Total Expenses in the assessed year (RM)  Star Rating  \\\n",
      "6     7                                       NaN          3.0   \n",
      "27   28                                       NaN          NaN   \n",
      "12   13                                       NaN          3.0   \n",
      "17   18                                       NaN          3.0   \n",
      "9    10                                       NaN          3.0   \n",
      "15   16                                       NaN          3.0   \n",
      "33   34                                       NaN          NaN   \n",
      "16   17                                       NaN          3.0   \n",
      "36   37                                       NaN          NaN   \n",
      "35   36                                       NaN          NaN   \n",
      "0     1                                       NaN          3.0   \n",
      "24   25                                       NaN          3.0   \n",
      "5     6                                       NaN          3.0   \n",
      "11   12                                       NaN          3.0   \n",
      "40   41                                       NaN          NaN   \n",
      "1     2                                       NaN          3.0   \n",
      "31   32                                       NaN          NaN   \n",
      "21   22                                       NaN          3.0   \n",
      "2     3                                       NaN          3.0   \n",
      "32   33                                       NaN          NaN   \n",
      "41   42                                       NaN          NaN   \n",
      "3     4                                       NaN          3.0   \n",
      "37   38                                       NaN          NaN   \n",
      "23   24                                       NaN          3.0   \n",
      "34   35                                       NaN          NaN   \n",
      "10   11                                       NaN          3.0   \n",
      "22   23                                       NaN          5.0   \n",
      "18   19                                       NaN          3.0   \n",
      "20   21                                       NaN          3.0   \n",
      "7     8                                       NaN          3.0   \n",
      "14   15                                       NaN          3.0   \n",
      "28   29                                       NaN          NaN   \n",
      "38   39                                       NaN          NaN   \n",
      "\n",
      "    Name of Principal Investigator / Project Leader_DR AMIRAH MOHD GAZZALI  \\\n",
      "6                                                   0                        \n",
      "27                                                  0                        \n",
      "12                                                  0                        \n",
      "17                                                  0                        \n",
      "9                                                   0                        \n",
      "15                                                  0                        \n",
      "33                                                  0                        \n",
      "16                                                  0                        \n",
      "36                                                  0                        \n",
      "35                                                  0                        \n",
      "0                                                   0                        \n",
      "24                                                  0                        \n",
      "5                                                   0                        \n",
      "11                                                  0                        \n",
      "40                                                  0                        \n",
      "1                                                   0                        \n",
      "31                                                  0                        \n",
      "21                                                  0                        \n",
      "2                                                   0                        \n",
      "32                                                  0                        \n",
      "41                                                  0                        \n",
      "3                                                   0                        \n",
      "37                                                  0                        \n",
      "23                                                  0                        \n",
      "34                                                  0                        \n",
      "10                                                  0                        \n",
      "22                                                  0                        \n",
      "18                                                  0                        \n",
      "20                                                  0                        \n",
      "7                                                   0                        \n",
      "14                                                  0                        \n",
      "28                                                  0                        \n",
      "38                                                  1                        \n",
      "\n",
      "    Name of Principal Investigator / Project Leader_DR FARAH HAZIQAH MEOR TERMIZI  \\\n",
      "6                                                   0                               \n",
      "27                                                  0                               \n",
      "12                                                  0                               \n",
      "17                                                  0                               \n",
      "9                                                   0                               \n",
      "15                                                  0                               \n",
      "33                                                  0                               \n",
      "16                                                  0                               \n",
      "36                                                  0                               \n",
      "35                                                  0                               \n",
      "0                                                   0                               \n",
      "24                                                  0                               \n",
      "5                                                   0                               \n",
      "11                                                  0                               \n",
      "40                                                  0                               \n",
      "1                                                   0                               \n",
      "31                                                  0                               \n",
      "21                                                  0                               \n",
      "2                                                   0                               \n",
      "32                                                  0                               \n",
      "41                                                  0                               \n",
      "3                                                   0                               \n",
      "37                                                  0                               \n",
      "23                                                  0                               \n",
      "34                                                  0                               \n",
      "10                                                  0                               \n",
      "22                                                  0                               \n",
      "18                                                  0                               \n",
      "20                                                  0                               \n",
      "7                                                   0                               \n",
      "14                                                  0                               \n",
      "28                                                  0                               \n",
      "38                                                  0                               \n",
      "\n",
      "    Name of Principal Investigator / Project Leader_DR KHAUTHAR ISMAIL  \\\n",
      "6                                                   0                    \n",
      "27                                                  0                    \n",
      "12                                                  0                    \n",
      "17                                                  0                    \n",
      "9                                                   0                    \n",
      "15                                                  0                    \n",
      "33                                                  0                    \n",
      "16                                                  0                    \n",
      "36                                                  0                    \n",
      "35                                                  0                    \n",
      "0                                                   0                    \n",
      "24                                                  0                    \n",
      "5                                                   0                    \n",
      "11                                                  0                    \n",
      "40                                                  0                    \n",
      "1                                                   0                    \n",
      "31                                                  0                    \n",
      "21                                                  0                    \n",
      "2                                                   0                    \n",
      "32                                                  0                    \n",
      "41                                                  0                    \n",
      "3                                                   0                    \n",
      "37                                                  0                    \n",
      "23                                                  0                    \n",
      "34                                                  0                    \n",
      "10                                                  0                    \n",
      "22                                                  0                    \n",
      "18                                                  0                    \n",
      "20                                                  0                    \n",
      "7                                                   0                    \n",
      "14                                                  0                    \n",
      "28                                                  0                    \n",
      "38                                                  0                    \n",
      "\n",
      "    Name of Principal Investigator / Project Leader_DR SYEREEZA MOHAMED SANIFF-PROGRAM EDISI REHLAH  \\\n",
      "6                                                   0                                                 \n",
      "27                                                  0                                                 \n",
      "12                                                  0                                                 \n",
      "17                                                  0                                                 \n",
      "9                                                   0                                                 \n",
      "15                                                  0                                                 \n",
      "33                                                  0                                                 \n",
      "16                                                  0                                                 \n",
      "36                                                  0                                                 \n",
      "35                                                  0                                                 \n",
      "0                                                   0                                                 \n",
      "24                                                  0                                                 \n",
      "5                                                   0                                                 \n",
      "11                                                  0                                                 \n",
      "40                                                  1                                                 \n",
      "1                                                   0                                                 \n",
      "31                                                  0                                                 \n",
      "21                                                  0                                                 \n",
      "2                                                   0                                                 \n",
      "32                                                  0                                                 \n",
      "41                                                  0                                                 \n",
      "3                                                   0                                                 \n",
      "37                                                  0                                                 \n",
      "23                                                  0                                                 \n",
      "34                                                  0                                                 \n",
      "10                                                  0                                                 \n",
      "22                                                  0                                                 \n",
      "18                                                  0                                                 \n",
      "20                                                  0                                                 \n",
      "7                                                   0                                                 \n",
      "14                                                  0                                                 \n",
      "28                                                  0                                                 \n",
      "38                                                  0                                                 \n",
      "\n",
      "    Name of Principal Investigator / Project Leader_DR SYEREEZA MOHAMED SANIFF-PROGRAM LITERASI DIGITAL  \\\n",
      "6                                                   0                                                     \n",
      "27                                                  0                                                     \n",
      "12                                                  0                                                     \n",
      "17                                                  0                                                     \n",
      "9                                                   0                                                     \n",
      "15                                                  0                                                     \n",
      "33                                                  0                                                     \n",
      "16                                                  0                                                     \n",
      "36                                                  0                                                     \n",
      "35                                                  0                                                     \n",
      "0                                                   0                                                     \n",
      "24                                                  0                                                     \n",
      "5                                                   0                                                     \n",
      "11                                                  0                                                     \n",
      "40                                                  0                                                     \n",
      "1                                                   0                                                     \n",
      "31                                                  0                                                     \n",
      "21                                                  0                                                     \n",
      "2                                                   0                                                     \n",
      "32                                                  0                                                     \n",
      "41                                                  1                                                     \n",
      "3                                                   0                                                     \n",
      "37                                                  0                                                     \n",
      "23                                                  0                                                     \n",
      "34                                                  0                                                     \n",
      "10                                                  0                                                     \n",
      "22                                                  0                                                     \n",
      "18                                                  0                                                     \n",
      "20                                                  0                                                     \n",
      "7                                                   0                                                     \n",
      "14                                                  0                                                     \n",
      "28                                                  0                                                     \n",
      "38                                                  0                                                     \n",
      "\n",
      "    Name of Principal Investigator / Project Leader_DR SYEREEZA MOHAMED SANIFF-PROJEK lIBATSAMA MASA@SUNGAI NIBONG  \\\n",
      "6                                                   0                                                                \n",
      "27                                                  0                                                                \n",
      "12                                                  0                                                                \n",
      "17                                                  0                                                                \n",
      "9                                                   0                                                                \n",
      "15                                                  0                                                                \n",
      "33                                                  0                                                                \n",
      "16                                                  0                                                                \n",
      "36                                                  0                                                                \n",
      "35                                                  0                                                                \n",
      "0                                                   0                                                                \n",
      "24                                                  0                                                                \n",
      "5                                                   0                                                                \n",
      "11                                                  0                                                                \n",
      "40                                                  0                                                                \n",
      "1                                                   0                                                                \n",
      "31                                                  0                                                                \n",
      "21                                                  0                                                                \n",
      "2                                                   0                                                                \n",
      "32                                                  0                                                                \n",
      "41                                                  0                                                                \n",
      "3                                                   0                                                                \n",
      "37                                                  0                                                                \n",
      "23                                                  0                                                                \n",
      "34                                                  0                                                                \n",
      "10                                                  0                                                                \n",
      "22                                                  0                                                                \n",
      "18                                                  0                                                                \n",
      "20                                                  0                                                                \n",
      "7                                                   0                                                                \n",
      "14                                                  0                                                                \n",
      "28                                                  0                                                                \n",
      "38                                                  0                                                                \n",
      "\n",
      "    Name of Principal Investigator / Project Leader_DR ZURIAWATI AHMAD ZAHARI  \\\n",
      "6                                                   0                           \n",
      "27                                                  0                           \n",
      "12                                                  0                           \n",
      "17                                                  0                           \n",
      "9                                                   0                           \n",
      "15                                                  0                           \n",
      "33                                                  0                           \n",
      "16                                                  0                           \n",
      "36                                                  0                           \n",
      "35                                                  0                           \n",
      "0                                                   0                           \n",
      "24                                                  0                           \n",
      "5                                                   0                           \n",
      "11                                                  0                           \n",
      "40                                                  0                           \n",
      "1                                                   0                           \n",
      "31                                                  0                           \n",
      "21                                                  0                           \n",
      "2                                                   0                           \n",
      "32                                                  0                           \n",
      "41                                                  0                           \n",
      "3                                                   0                           \n",
      "37                                                  1                           \n",
      "23                                                  0                           \n",
      "34                                                  0                           \n",
      "10                                                  0                           \n",
      "22                                                  0                           \n",
      "18                                                  0                           \n",
      "20                                                  0                           \n",
      "7                                                   0                           \n",
      "14                                                  0                           \n",
      "28                                                  0                           \n",
      "38                                                  0                           \n",
      "\n",
      "    ...  Total Allocation received in the year assessed (RM)_RM5,000.00  \\\n",
      "6   ...                                                  0                \n",
      "27  ...                                                  0                \n",
      "12  ...                                                  0                \n",
      "17  ...                                                  0                \n",
      "9   ...                                                  0                \n",
      "15  ...                                                  0                \n",
      "33  ...                                                  0                \n",
      "16  ...                                                  0                \n",
      "36  ...                                                  0                \n",
      "35  ...                                                  0                \n",
      "0   ...                                                  0                \n",
      "24  ...                                                  0                \n",
      "5   ...                                                  0                \n",
      "11  ...                                                  0                \n",
      "40  ...                                                  0                \n",
      "1   ...                                                  0                \n",
      "31  ...                                                  0                \n",
      "21  ...                                                  0                \n",
      "2   ...                                                  0                \n",
      "32  ...                                                  0                \n",
      "41  ...                                                  0                \n",
      "3   ...                                                  0                \n",
      "37  ...                                                  0                \n",
      "23  ...                                                  0                \n",
      "34  ...                                                  0                \n",
      "10  ...                                                  0                \n",
      "22  ...                                                  0                \n",
      "18  ...                                                  0                \n",
      "20  ...                                                  0                \n",
      "7   ...                                                  0                \n",
      "14  ...                                                  0                \n",
      "28  ...                                                  0                \n",
      "38  ...                                                  0                \n",
      "\n",
      "    Total Allocation received in the year assessed (RM)_RM500,000.00  \\\n",
      "6                                                   0                  \n",
      "27                                                  0                  \n",
      "12                                                  0                  \n",
      "17                                                  0                  \n",
      "9                                                   0                  \n",
      "15                                                  0                  \n",
      "33                                                  0                  \n",
      "16                                                  1                  \n",
      "36                                                  0                  \n",
      "35                                                  0                  \n",
      "0                                                   0                  \n",
      "24                                                  0                  \n",
      "5                                                   0                  \n",
      "11                                                  0                  \n",
      "40                                                  0                  \n",
      "1                                                   0                  \n",
      "31                                                  0                  \n",
      "21                                                  0                  \n",
      "2                                                   0                  \n",
      "32                                                  0                  \n",
      "41                                                  0                  \n",
      "3                                                   0                  \n",
      "37                                                  0                  \n",
      "23                                                  0                  \n",
      "34                                                  0                  \n",
      "10                                                  0                  \n",
      "22                                                  0                  \n",
      "18                                                  0                  \n",
      "20                                                  0                  \n",
      "7                                                   0                  \n",
      "14                                                  0                  \n",
      "28                                                  0                  \n",
      "38                                                  0                  \n",
      "\n",
      "    Total Allocation received in the year assessed (RM)_RM522,000.00  \\\n",
      "6                                                   0                  \n",
      "27                                                  0                  \n",
      "12                                                  0                  \n",
      "17                                                  0                  \n",
      "9                                                   0                  \n",
      "15                                                  1                  \n",
      "33                                                  0                  \n",
      "16                                                  0                  \n",
      "36                                                  0                  \n",
      "35                                                  0                  \n",
      "0                                                   0                  \n",
      "24                                                  0                  \n",
      "5                                                   0                  \n",
      "11                                                  0                  \n",
      "40                                                  0                  \n",
      "1                                                   0                  \n",
      "31                                                  0                  \n",
      "21                                                  0                  \n",
      "2                                                   0                  \n",
      "32                                                  0                  \n",
      "41                                                  0                  \n",
      "3                                                   0                  \n",
      "37                                                  0                  \n",
      "23                                                  0                  \n",
      "34                                                  0                  \n",
      "10                                                  0                  \n",
      "22                                                  0                  \n",
      "18                                                  0                  \n",
      "20                                                  0                  \n",
      "7                                                   0                  \n",
      "14                                                  0                  \n",
      "28                                                  0                  \n",
      "38                                                  0                  \n",
      "\n",
      "    Total Allocation received in the year assessed (RM)_RM6,000.00  \\\n",
      "6                                                   0                \n",
      "27                                                  0                \n",
      "12                                                  0                \n",
      "17                                                  0                \n",
      "9                                                   0                \n",
      "15                                                  0                \n",
      "33                                                  0                \n",
      "16                                                  0                \n",
      "36                                                  0                \n",
      "35                                                  0                \n",
      "0                                                   0                \n",
      "24                                                  0                \n",
      "5                                                   0                \n",
      "11                                                  0                \n",
      "40                                                  1                \n",
      "1                                                   0                \n",
      "31                                                  0                \n",
      "21                                                  0                \n",
      "2                                                   0                \n",
      "32                                                  0                \n",
      "41                                                  0                \n",
      "3                                                   0                \n",
      "37                                                  0                \n",
      "23                                                  0                \n",
      "34                                                  0                \n",
      "10                                                  0                \n",
      "22                                                  0                \n",
      "18                                                  0                \n",
      "20                                                  0                \n",
      "7                                                   0                \n",
      "14                                                  0                \n",
      "28                                                  0                \n",
      "38                                                  0                \n",
      "\n",
      "    Total Allocation received in the year assessed (RM)_RM600.00  \\\n",
      "6                                                   0              \n",
      "27                                                  0              \n",
      "12                                                  0              \n",
      "17                                                  0              \n",
      "9                                                   0              \n",
      "15                                                  0              \n",
      "33                                                  0              \n",
      "16                                                  0              \n",
      "36                                                  0              \n",
      "35                                                  0              \n",
      "0                                                   0              \n",
      "24                                                  0              \n",
      "5                                                   0              \n",
      "11                                                  0              \n",
      "40                                                  0              \n",
      "1                                                   0              \n",
      "31                                                  0              \n",
      "21                                                  0              \n",
      "2                                                   0              \n",
      "32                                                  0              \n",
      "41                                                  0              \n",
      "3                                                   0              \n",
      "37                                                  0              \n",
      "23                                                  0              \n",
      "34                                                  0              \n",
      "10                                                  0              \n",
      "22                                                  0              \n",
      "18                                                  0              \n",
      "20                                                  1              \n",
      "7                                                   0              \n",
      "14                                                  0              \n",
      "28                                                  0              \n",
      "38                                                  0              \n",
      "\n",
      "    Total Allocation received in the year assessed (RM)_RM7,000.00  \\\n",
      "6                                                   0                \n",
      "27                                                  0                \n",
      "12                                                  0                \n",
      "17                                                  0                \n",
      "9                                                   0                \n",
      "15                                                  0                \n",
      "33                                                  1                \n",
      "16                                                  0                \n",
      "36                                                  0                \n",
      "35                                                  0                \n",
      "0                                                   0                \n",
      "24                                                  0                \n",
      "5                                                   0                \n",
      "11                                                  0                \n",
      "40                                                  0                \n",
      "1                                                   0                \n",
      "31                                                  0                \n",
      "21                                                  0                \n",
      "2                                                   0                \n",
      "32                                                  0                \n",
      "41                                                  0                \n",
      "3                                                   0                \n",
      "37                                                  0                \n",
      "23                                                  0                \n",
      "34                                                  0                \n",
      "10                                                  0                \n",
      "22                                                  0                \n",
      "18                                                  0                \n",
      "20                                                  0                \n",
      "7                                                   1                \n",
      "14                                                  0                \n",
      "28                                                  0                \n",
      "38                                                  0                \n",
      "\n",
      "    Total Allocation received in the year assessed (RM)_RM7,500.00  \\\n",
      "6                                                   0                \n",
      "27                                                  0                \n",
      "12                                                  0                \n",
      "17                                                  0                \n",
      "9                                                   0                \n",
      "15                                                  0                \n",
      "33                                                  0                \n",
      "16                                                  0                \n",
      "36                                                  0                \n",
      "35                                                  0                \n",
      "0                                                   0                \n",
      "24                                                  0                \n",
      "5                                                   0                \n",
      "11                                                  0                \n",
      "40                                                  0                \n",
      "1                                                   0                \n",
      "31                                                  0                \n",
      "21                                                  0                \n",
      "2                                                   0                \n",
      "32                                                  0                \n",
      "41                                                  1                \n",
      "3                                                   0                \n",
      "37                                                  0                \n",
      "23                                                  0                \n",
      "34                                                  0                \n",
      "10                                                  0                \n",
      "22                                                  0                \n",
      "18                                                  0                \n",
      "20                                                  0                \n",
      "7                                                   0                \n",
      "14                                                  0                \n",
      "28                                                  0                \n",
      "38                                                  0                \n",
      "\n",
      "    Total Allocation received in the year assessed (RM)_RM8,000.00  \\\n",
      "6                                                   0                \n",
      "27                                                  0                \n",
      "12                                                  0                \n",
      "17                                                  0                \n",
      "9                                                   0                \n",
      "15                                                  0                \n",
      "33                                                  0                \n",
      "16                                                  0                \n",
      "36                                                  0                \n",
      "35                                                  0                \n",
      "0                                                   0                \n",
      "24                                                  0                \n",
      "5                                                   0                \n",
      "11                                                  0                \n",
      "40                                                  0                \n",
      "1                                                   0                \n",
      "31                                                  0                \n",
      "21                                                  0                \n",
      "2                                                   0                \n",
      "32                                                  0                \n",
      "41                                                  0                \n",
      "3                                                   0                \n",
      "37                                                  0                \n",
      "23                                                  0                \n",
      "34                                                  1                \n",
      "10                                                  0                \n",
      "22                                                  0                \n",
      "18                                                  0                \n",
      "20                                                  0                \n",
      "7                                                   0                \n",
      "14                                                  0                \n",
      "28                                                  0                \n",
      "38                                                  0                \n",
      "\n",
      "    Total Allocation received in the year assessed (RM)_RM8,926.00  \\\n",
      "6                                                   0                \n",
      "27                                                  0                \n",
      "12                                                  0                \n",
      "17                                                  0                \n",
      "9                                                   0                \n",
      "15                                                  0                \n",
      "33                                                  0                \n",
      "16                                                  0                \n",
      "36                                                  0                \n",
      "35                                                  0                \n",
      "0                                                   0                \n",
      "24                                                  0                \n",
      "5                                                   0                \n",
      "11                                                  0                \n",
      "40                                                  0                \n",
      "1                                                   0                \n",
      "31                                                  0                \n",
      "21                                                  0                \n",
      "2                                                   0                \n",
      "32                                                  1                \n",
      "41                                                  0                \n",
      "3                                                   0                \n",
      "37                                                  0                \n",
      "23                                                  0                \n",
      "34                                                  0                \n",
      "10                                                  0                \n",
      "22                                                  0                \n",
      "18                                                  0                \n",
      "20                                                  0                \n",
      "7                                                   0                \n",
      "14                                                  0                \n",
      "28                                                  0                \n",
      "38                                                  0                \n",
      "\n",
      "    Total Allocation received in the year assessed (RM)_RM90,000.00  \n",
      "6                                                   0                \n",
      "27                                                  0                \n",
      "12                                                  0                \n",
      "17                                                  0                \n",
      "9                                                   0                \n",
      "15                                                  0                \n",
      "33                                                  0                \n",
      "16                                                  0                \n",
      "36                                                  0                \n",
      "35                                                  0                \n",
      "0                                                   0                \n",
      "24                                                  0                \n",
      "5                                                   0                \n",
      "11                                                  0                \n",
      "40                                                  0                \n",
      "1                                                   0                \n",
      "31                                                  0                \n",
      "21                                                  0                \n",
      "2                                                   0                \n",
      "32                                                  0                \n",
      "41                                                  0                \n",
      "3                                                   0                \n",
      "37                                                  1                \n",
      "23                                                  0                \n",
      "34                                                  0                \n",
      "10                                                  0                \n",
      "22                                                  0                \n",
      "18                                                  0                \n",
      "20                                                  0                \n",
      "7                                                   0                \n",
      "14                                                  0                \n",
      "28                                                  0                \n",
      "38                                                  0                \n",
      "\n",
      "[33 rows x 248 columns]\n"
     ]
    }
   ],
   "source": [
    "print(X_train)"
   ]
  },
  {
   "cell_type": "code",
   "execution_count": 16,
   "id": "a48ddae0",
   "metadata": {},
   "outputs": [
    {
     "name": "stdout",
     "output_type": "stream",
     "text": [
      "6     1120274.00\n",
      "27      15908.16\n",
      "12     370500.00\n",
      "17    2680000.00\n",
      "9       20000.00\n",
      "15     522000.00\n",
      "33       7000.00\n",
      "16     500000.00\n",
      "36     100000.00\n",
      "35      20000.00\n",
      "0       12200.00\n",
      "24       2000.00\n",
      "5      479726.00\n",
      "11     341147.00\n",
      "40       6000.00\n",
      "1       11950.00\n",
      "31     150000.00\n",
      "21        300.00\n",
      "2       20000.00\n",
      "32       8926.00\n",
      "41       7500.00\n",
      "3      173727.00\n",
      "37      90000.00\n",
      "23          0.00\n",
      "34       8000.00\n",
      "10      20600.00\n",
      "22       1380.90\n",
      "18    5000000.00\n",
      "20        600.00\n",
      "7        7000.00\n",
      "14     465000.00\n",
      "28     157000.00\n",
      "38      21000.00\n",
      "Name: Total Funding from Community/Industry, dtype: float64\n"
     ]
    }
   ],
   "source": [
    "print(y_train)"
   ]
  },
  {
   "cell_type": "markdown",
   "id": "a4e044cf",
   "metadata": {},
   "source": [
    "# Missing values"
   ]
  },
  {
   "cell_type": "code",
   "execution_count": 17,
   "id": "141f9b6f",
   "metadata": {},
   "outputs": [
    {
     "name": "stdout",
     "output_type": "stream",
     "text": [
      "Missing values in target column: 49\n",
      "Proportion of missing values: 53.85%\n",
      "Rows with missing target values:\n",
      "    No. Name of Principal Investigator / Project Leader Name of the School  \\\n",
      "42   43           UMMU SAKINAH BINTI MOHAMAD SUBRI, DR.                NaN   \n",
      "43   44   FARAH AINI BINTI ABDULLAH, PROFESOR MADYA DR.                NaN   \n",
      "44   45                       NORAZZIZI BIN NORDIN, DR.                NaN   \n",
      "45   46       SHARIFAH ZAHHURA BINTI SYED ABDULLAH, DR.                NaN   \n",
      "46   47      NOR ASMAT BINTI ISMAIL, PROFESOR MADYA DR.                NaN   \n",
      "\n",
      "           Prjoect's Status  \\\n",
      "42  Completed (With Report)   \n",
      "43  Completed (With Report)   \n",
      "44  Completed (With Report)   \n",
      "45  Completed (With Report)   \n",
      "46  Completed (With Report)   \n",
      "\n",
      "                                        Project Title  \\\n",
      "42            PERKARA RBT: PENDIDIKAN SEPANJANG HAYAT   \n",
      "43  PEMANTAPAN STEM KANAK-KANAK DI RUMAH ANAK YATI...   \n",
      "44  SPECTROCIETY: PEMERKASAAN STEM MELALUI PENGETA...   \n",
      "45  PENGLIBATSAMAAN KOMUNITI MELALUI PROGRAM PENJA...   \n",
      "46  PEMERKASAAN PENGURUSAN PERAKAUNAN PPDK DAN PEN...   \n",
      "\n",
      "   RELATED RESEARCH PROJECT / INNOVATION Start Date   End Date  \\\n",
      "42                                   NaN   5/5/2023  12/4/2023   \n",
      "43                                   NaN   6/1/2023  1/31/2024   \n",
      "44                                   NaN   5/5/2023   5/4/2024   \n",
      "45                                   NaN   5/5/2023   5/4/2024   \n",
      "46                                   NaN   7/1/2023  6/20/2024   \n",
      "\n",
      "   Length of Project (Months)  \\\n",
      "42                   7  bulan   \n",
      "43                   8  bulan   \n",
      "44                  12  bulan   \n",
      "45                  12  bulan   \n",
      "46                  12  bulan   \n",
      "\n",
      "   Kategori Projek (Knowledge / Technology Diffusion Projects)  \\\n",
      "42                                                NaN            \n",
      "43                                                NaN            \n",
      "44                                                NaN            \n",
      "45                                                NaN            \n",
      "46                                                NaN            \n",
      "\n",
      "         Sponsor/ Funding Agency  \\\n",
      "42  COMMUNITY ENGAGEMENT PROJECT   \n",
      "43  COMMUNITY ENGAGEMENT PROJECT   \n",
      "44  COMMUNITY ENGAGEMENT PROJECT   \n",
      "45  COMMUNITY ENGAGEMENT PROJECT   \n",
      "46  COMMUNITY ENGAGEMENT PROJECT   \n",
      "\n",
      "   Total Funding / Total Allocation (RM) approved  \\\n",
      "42                                         RM0.00   \n",
      "43                                     RM3,789.09   \n",
      "44                                     RM2,582.88   \n",
      "45                                     RM1,846.11   \n",
      "46                                     RM3,273.55   \n",
      "\n",
      "   Total Funding from Community/Industry  \\\n",
      "42                                   NaN   \n",
      "43                                   NaN   \n",
      "44                                   NaN   \n",
      "45                                   NaN   \n",
      "46                                   NaN   \n",
      "\n",
      "   Total Allocation received in the year assessed (RM)  \\\n",
      "42                                                NaN    \n",
      "43                                                NaN    \n",
      "44                                                NaN    \n",
      "45                                                NaN    \n",
      "46                                                NaN    \n",
      "\n",
      "    Total Expenses in the assessed year (RM)  Star Rating  \n",
      "42                                       NaN          NaN  \n",
      "43                                       NaN          NaN  \n",
      "44                                       NaN          NaN  \n",
      "45                                       NaN          NaN  \n",
      "46                                       NaN          NaN  \n"
     ]
    }
   ],
   "source": [
    "import pandas as pd\n",
    "from sklearn.model_selection import train_test_split\n",
    "from sklearn.preprocessing import StandardScaler\n",
    "from sklearn.impute import SimpleImputer\n",
    "from sklearn.ensemble import RandomForestClassifier\n",
    "from sklearn.metrics import accuracy_score, classification_report, roc_auc_score\n",
    "\n",
    "# Load the dataset\n",
    "file_path = 'Desktop/Preprocessed_External.csv'\n",
    "df = pd.read_csv(file_path)\n",
    "\n",
    "# Specify the target column\n",
    "target = 'Total Funding from Community/Industry'\n",
    "\n",
    "# Check for missing values in the target column\n",
    "missing_target_count = df[target].isnull().sum()\n",
    "print(f\"Missing values in target column: {missing_target_count}\")\n",
    "if missing_target_count > 0:\n",
    "    print(f\"Proportion of missing values: {missing_target_count / len(df):.2%}\")\n",
    "\n",
    "# Investigate why missing values exist\n",
    "# Example: Print rows where target column is missing\n",
    "missing_target_rows = df[df[target].isnull()]\n",
    "print(\"Rows with missing target values:\")\n",
    "print(missing_target_rows.head())\n"
   ]
  },
  {
   "cell_type": "markdown",
   "id": "cd127a9d",
   "metadata": {},
   "source": [
    "# Random Forest "
   ]
  },
  {
   "cell_type": "code",
   "execution_count": 18,
   "id": "6fbe4972",
   "metadata": {},
   "outputs": [],
   "source": [
    "# Clean the target column (remove currency symbols and commas, then convert to numeric)\n",
    "df[target] = df[target].str.replace('RM', '', regex=False)  # Remove 'RM'\n",
    "df[target] = df[target].str.replace(',', '', regex=False)  # Remove commas\n",
    "df[target] = pd.to_numeric(df[target], errors='coerce')    # Convert to numeric\n",
    "\n",
    "# Impute missing values with the median\n",
    "df[target] = df[target].fillna(df[target].median())\n"
   ]
  },
  {
   "cell_type": "code",
   "execution_count": 19,
   "id": "c80a3b33",
   "metadata": {},
   "outputs": [],
   "source": [
    "# Example: Convert target to categorical by defining bins\n",
    "y = pd.cut(\n",
    "    y, \n",
    "    bins=[-float('inf'), 10000, 50000, 100000, float('inf')], \n",
    "    labels=[0, 1, 2, 3]  # Define class labels\n",
    ")\n",
    "y = y.astype(int)  # Ensure target is integer for classification\n"
   ]
  },
  {
   "cell_type": "code",
   "execution_count": 20,
   "id": "f2a3fdb7",
   "metadata": {},
   "outputs": [
    {
     "name": "stdout",
     "output_type": "stream",
     "text": [
      "Random Forest Results:\n",
      "Accuracy: 0.7368\n",
      "              precision    recall  f1-score   support\n",
      "\n",
      "           0       0.33      0.67      0.44         3\n",
      "           1       0.91      0.77      0.83        13\n",
      "           3       1.00      0.67      0.80         3\n",
      "\n",
      "    accuracy                           0.74        19\n",
      "   macro avg       0.75      0.70      0.69        19\n",
      "weighted avg       0.83      0.74      0.77        19\n",
      "\n"
     ]
    }
   ],
   "source": [
    "import pandas as pd\n",
    "from sklearn.model_selection import train_test_split\n",
    "from sklearn.preprocessing import StandardScaler\n",
    "from sklearn.impute import SimpleImputer\n",
    "from sklearn.ensemble import RandomForestClassifier\n",
    "from sklearn.metrics import accuracy_score, classification_report\n",
    "\n",
    "# Load and preprocess data\n",
    "file_path = 'Desktop/Preprocessed_External.csv'\n",
    "df = pd.read_csv(file_path)\n",
    "target = 'Total Funding from Community/Industry'\n",
    "\n",
    "# Clean and preprocess target column\n",
    "df[target] = df[target].str.replace('RM', '', regex=False).str.replace(',', '', regex=False)\n",
    "df[target] = pd.to_numeric(df[target], errors='coerce')\n",
    "df[target] = df[target].fillna(df[target].median())\n",
    "\n",
    "# Features and target split\n",
    "X = df.drop(columns=[target])\n",
    "y = df[target]\n",
    "\n",
    "# Convert target to categorical (for classification task)\n",
    "y = pd.cut(\n",
    "    y, \n",
    "    bins=[-float('inf'), 10000, 50000, 100000, float('inf')], \n",
    "    labels=[0, 1, 2, 3]  # Define classes\n",
    ")\n",
    "y = y.astype(int)\n",
    "\n",
    "# Convert categorical features to numerical\n",
    "X = pd.get_dummies(X, drop_first=True)\n",
    "\n",
    "# Train-test split\n",
    "X_train, X_test, y_train, y_test = train_test_split(X, y, test_size=0.2, random_state=42)\n",
    "\n",
    "# Handle missing values\n",
    "imputer = SimpleImputer(strategy=\"mean\")\n",
    "X_train = imputer.fit_transform(X_train)\n",
    "X_test = imputer.transform(X_test)\n",
    "\n",
    "# Standardize numerical features\n",
    "scaler = StandardScaler()\n",
    "X_train = scaler.fit_transform(X_train)\n",
    "X_test = scaler.transform(X_test)\n",
    "\n",
    "# Train a Random Forest classifier\n",
    "rf_model = RandomForestClassifier(random_state=42)\n",
    "rf_model.fit(X_train, y_train)\n",
    "\n",
    "# Make predictions\n",
    "rf_predictions = rf_model.predict(X_test)\n",
    "\n",
    "# Evaluate the model\n",
    "print(\"Random Forest Results:\")\n",
    "print(f\"Accuracy: {accuracy_score(y_test, rf_predictions):.4f}\")\n",
    "print(classification_report(y_test, rf_predictions))\n"
   ]
  },
  {
   "cell_type": "markdown",
   "id": "1ed915f8",
   "metadata": {},
   "source": [
    "# Random Forest Regression"
   ]
  },
  {
   "cell_type": "code",
   "execution_count": 21,
   "id": "92a91cf7",
   "metadata": {},
   "outputs": [
    {
     "name": "stdout",
     "output_type": "stream",
     "text": [
      "Random Forest Regression Results:\n",
      "Mean Squared Error: 0.7477\n",
      "R^2 Score: 0.0221\n"
     ]
    }
   ],
   "source": [
    "from sklearn.ensemble import RandomForestRegressor\n",
    "from sklearn.metrics import mean_squared_error, r2_score\n",
    "\n",
    "# Train a Random Forest Regressor\n",
    "rf_model = RandomForestRegressor(random_state=42)\n",
    "rf_model.fit(X_train, y_train)\n",
    "\n",
    "# Make predictions\n",
    "rf_predictions = rf_model.predict(X_test)\n",
    "\n",
    "# Evaluate the model\n",
    "print(\"Random Forest Regression Results:\")\n",
    "print(f\"Mean Squared Error: {mean_squared_error(y_test, rf_predictions):.4f}\")\n",
    "print(f\"R^2 Score: {r2_score(y_test, rf_predictions):.4f}\")\n"
   ]
  },
  {
   "cell_type": "code",
   "execution_count": 22,
   "id": "8016f662",
   "metadata": {},
   "outputs": [
    {
     "name": "stdout",
     "output_type": "stream",
     "text": [
      "No.                                                                                      int64\n",
      "Total Expenses in the assessed year (RM)                                               float64\n",
      "Star Rating                                                                            float64\n",
      "Name of Principal Investigator / Project Leader_AMIRAH HURZAID, DR.                      uint8\n",
      "Name of Principal Investigator / Project Leader_ANA MASARA BINTI AHMAD MOKHTAR, DR.      uint8\n",
      "                                                                                        ...   \n",
      "Total Allocation received in the year assessed (RM)_RM7,000.00                           uint8\n",
      "Total Allocation received in the year assessed (RM)_RM7,500.00                           uint8\n",
      "Total Allocation received in the year assessed (RM)_RM8,000.00                           uint8\n",
      "Total Allocation received in the year assessed (RM)_RM8,926.00                           uint8\n",
      "Total Allocation received in the year assessed (RM)_RM90,000.00                          uint8\n",
      "Length: 437, dtype: object\n"
     ]
    }
   ],
   "source": [
    "print(X.dtypes)\n"
   ]
  },
  {
   "cell_type": "code",
   "execution_count": 23,
   "id": "90078650",
   "metadata": {},
   "outputs": [],
   "source": [
    "X = pd.get_dummies(X, drop_first=True)\n"
   ]
  },
  {
   "cell_type": "code",
   "execution_count": 24,
   "id": "56a4135b",
   "metadata": {},
   "outputs": [],
   "source": [
    "from sklearn.preprocessing import LabelEncoder\n",
    "for col in X.select_dtypes(include=['object']).columns:\n",
    "    le = LabelEncoder()\n",
    "    X[col] = le.fit_transform(X[col])\n"
   ]
  },
  {
   "cell_type": "code",
   "execution_count": 25,
   "id": "a2fb918f",
   "metadata": {},
   "outputs": [],
   "source": [
    "df = df.dropna(subset=[target])  # Drops rows with missing values in target\n",
    "X = df.drop(columns=[target])\n",
    "y = df[target]"
   ]
  },
  {
   "cell_type": "code",
   "execution_count": 26,
   "id": "3e925e44",
   "metadata": {},
   "outputs": [
    {
     "name": "stdout",
     "output_type": "stream",
     "text": [
      "0\n"
     ]
    }
   ],
   "source": [
    "# Check for missing values in target variable\n",
    "print(df[target].isnull().sum())"
   ]
  },
  {
   "cell_type": "code",
   "execution_count": 27,
   "id": "872163b3",
   "metadata": {},
   "outputs": [],
   "source": [
    "df = df.dropna(subset=[target])\n",
    "X = df.drop(columns=[target])\n",
    "y = df[target]\n"
   ]
  },
  {
   "cell_type": "code",
   "execution_count": 28,
   "id": "e26079c8",
   "metadata": {},
   "outputs": [],
   "source": [
    "y = y.fillna(y.median())\n"
   ]
  },
  {
   "cell_type": "markdown",
   "id": "e6e0a19c",
   "metadata": {},
   "source": [
    "# Mean Squared Error & R² Score"
   ]
  },
  {
   "cell_type": "code",
   "execution_count": 29,
   "id": "db4eab25",
   "metadata": {},
   "outputs": [
    {
     "name": "stdout",
     "output_type": "stream",
     "text": [
      "Mean Squared Error: 2077980351159.3438\n",
      "R² Score: -0.6872\n"
     ]
    }
   ],
   "source": [
    "import pandas as pd\n",
    "from sklearn.ensemble import GradientBoostingRegressor\n",
    "from sklearn.impute import SimpleImputer\n",
    "from sklearn.model_selection import train_test_split\n",
    "from sklearn.preprocessing import LabelEncoder\n",
    "from sklearn.metrics import mean_squared_error, r2_score\n",
    "\n",
    "# Load the dataset\n",
    "file_path = 'Desktop/Preprocessed_External.csv'\n",
    "df = pd.read_csv(file_path)\n",
    "\n",
    "# Define target column\n",
    "target = 'Total Funding from Community/Industry'\n",
    "\n",
    "# Clean the target column: Remove \"RM\" and commas, convert to float\n",
    "df[target] = df[target].str.replace('RM', '', regex=False).str.replace(',', '', regex=False)\n",
    "df[target] = pd.to_numeric(df[target], errors='coerce')  # Convert to numeric, set invalid parsing to NaN\n",
    "\n",
    "# Handle missing values in the target column\n",
    "df[target] = df[target].fillna(df[target].median())  # Impute missing values with the median\n",
    "\n",
    "# Features and target split\n",
    "X = df.drop(columns=[target])\n",
    "y = df[target]\n",
    "\n",
    "# Encode non-numeric columns\n",
    "for col in X.select_dtypes(include=['object']).columns:\n",
    "    le = LabelEncoder()\n",
    "    X[col] = le.fit_transform(X[col])\n",
    "\n",
    "# Impute missing values in features\n",
    "imputer = SimpleImputer(strategy=\"mean\")\n",
    "X = imputer.fit_transform(X)\n",
    "\n",
    "# Train-test split\n",
    "X_train, X_test, y_train, y_test = train_test_split(X, y, test_size=0.2, random_state=42)\n",
    "\n",
    "# Train the model\n",
    "model = GradientBoostingRegressor(random_state=42)\n",
    "model.fit(X_train, y_train)\n",
    "\n",
    "# Predict and evaluate\n",
    "y_pred = model.predict(X_test)\n",
    "mse = mean_squared_error(y_test, y_pred)\n",
    "r2 = r2_score(y_test, y_pred)\n",
    "\n",
    "print(f\"Mean Squared Error: {mse:.4f}\")\n",
    "print(f\"R² Score: {r2:.4f}\")\n"
   ]
  },
  {
   "cell_type": "code",
   "execution_count": 30,
   "id": "5cea5d5a",
   "metadata": {},
   "outputs": [
    {
     "name": "stdout",
     "output_type": "stream",
     "text": [
      "0     12200.0\n",
      "1     11950.0\n",
      "2     20000.0\n",
      "3    173727.0\n",
      "4     10000.0\n",
      "Name: Total Funding from Community/Industry, dtype: float64\n",
      "float64\n"
     ]
    }
   ],
   "source": [
    "print(df[target].head())\n",
    "print(df[target].dtype)\n"
   ]
  },
  {
   "cell_type": "code",
   "execution_count": 31,
   "id": "f3ba3c48",
   "metadata": {},
   "outputs": [
    {
     "name": "stdout",
     "output_type": "stream",
     "text": [
      "count    9.100000e+01\n",
      "mean     2.223456e+05\n",
      "std      7.982791e+05\n",
      "min      0.000000e+00\n",
      "25%      2.000000e+04\n",
      "50%      2.000000e+04\n",
      "75%      2.000000e+04\n",
      "max      5.000000e+06\n",
      "Name: Total Funding from Community/Industry, dtype: float64\n"
     ]
    },
    {
     "data": {
      "text/plain": [
       "<Axes: >"
      ]
     },
     "execution_count": 31,
     "metadata": {},
     "output_type": "execute_result"
    },
    {
     "data": {
      "image/png": "[encoded data removed]",
      "text/plain": [
       "<Figure size 640x480 with 1 Axes>"
      ]
     },
     "metadata": {},
     "output_type": "display_data"
    }
   ],
   "source": [
    "print(df[target].describe())\n",
    "df.boxplot(column=target)\n"
   ]
  },
  {
   "cell_type": "code",
   "execution_count": 32,
   "id": "b0d84cd9",
   "metadata": {
    "scrolled": true
   },
   "outputs": [
    {
     "name": "stdout",
     "output_type": "stream",
     "text": [
      "Total Funding from Community/Industry       1.000000\n",
      "Star Rating                                -0.106137\n",
      "No.                                        -0.274643\n",
      "Total Expenses in the assessed year (RM)         NaN\n",
      "Name: Total Funding from Community/Industry, dtype: float64\n"
     ]
    },
    {
     "name": "stderr",
     "output_type": "stream",
     "text": [
      "C:\\Users\\Setu\\AppData\\Local\\Temp\\ipykernel_10804\\2032462338.py:1: FutureWarning: The default value of numeric_only in DataFrame.corr is deprecated. In a future version, it will default to False. Select only valid columns or specify the value of numeric_only to silence this warning.\n",
      "  print(df.corr()[target].sort_values(ascending=False))\n"
     ]
    }
   ],
   "source": [
    "print(df.corr()[target].sort_values(ascending=False))\n"
   ]
  },
  {
   "cell_type": "code",
   "execution_count": 33,
   "id": "77a35633",
   "metadata": {},
   "outputs": [],
   "source": [
    "import numpy as np\n",
    "y = np.log1p(y)  # Apply log transformation to compress large values\n"
   ]
  },
  {
   "cell_type": "code",
   "execution_count": 34,
   "id": "e458b636",
   "metadata": {},
   "outputs": [],
   "source": [
    "from sklearn.preprocessing import StandardScaler\n",
    "\n",
    "scaler = StandardScaler()\n",
    "X = scaler.fit_transform(X)\n"
   ]
  },
  {
   "cell_type": "code",
   "execution_count": 35,
   "id": "e5b9696a",
   "metadata": {},
   "outputs": [],
   "source": [
    "from sklearn.model_selection import GridSearchCV\n",
    "\n",
    "param_grid = {\n",
    "    'n_estimators': [100, 200, 300],\n",
    "    'learning_rate': [0.01, 0.05, 0.1],\n",
    "    'max_depth': [3, 5, 7],\n",
    "    'subsample': [0.8, 1.0]\n",
    "}\n",
    "\n",
    "grid_search = GridSearchCV(\n",
    "    GradientBoostingRegressor(random_state=42),\n",
    "    param_grid,\n",
    "    cv=5,\n",
    "    scoring='neg_mean_squared_error'\n",
    ")\n",
    "\n",
    "grid_search.fit(X_train, y_train)\n",
    "best_model = grid_search.best_estimator_\n"
   ]
  },
  {
   "cell_type": "code",
   "execution_count": 36,
   "id": "05fdf40d",
   "metadata": {},
   "outputs": [
    {
     "name": "stdout",
     "output_type": "stream",
     "text": [
      "float64\n",
      "0     12200.0\n",
      "1     11950.0\n",
      "2     20000.0\n",
      "3    173727.0\n",
      "4     10000.0\n",
      "Name: Total Funding from Community/Industry, dtype: float64\n",
      "object\n",
      "0    RM0.00\n",
      "1    RM0.00\n",
      "2    RM0.00\n",
      "3    RM0.00\n",
      "4    RM0.00\n",
      "Name: Total Funding / Total Allocation (RM) approved, dtype: object\n"
     ]
    }
   ],
   "source": [
    "print(df['Total Funding from Community/Industry'].dtype)\n",
    "print(df['Total Funding from Community/Industry'].head())\n",
    "\n",
    "print(df['Total Funding / Total Allocation (RM) approved'].dtype)\n",
    "print(df['Total Funding / Total Allocation (RM) approved'].head())\n"
   ]
  },
  {
   "cell_type": "code",
   "execution_count": 37,
   "id": "ca9e05d0",
   "metadata": {},
   "outputs": [
    {
     "name": "stdout",
     "output_type": "stream",
     "text": [
      "   Total Funding from Community/Industry  \\\n",
      "0                                12200.0   \n",
      "1                                11950.0   \n",
      "2                                20000.0   \n",
      "3                               173727.0   \n",
      "4                                10000.0   \n",
      "\n",
      "   Total Funding / Total Allocation (RM) approved  Funding_Ratio  \n",
      "0                                             0.0            inf  \n",
      "1                                             0.0            inf  \n",
      "2                                             0.0            inf  \n",
      "3                                             0.0            inf  \n",
      "4                                             0.0            inf  \n"
     ]
    }
   ],
   "source": [
    "# Ensure columns are strings\n",
    "df['Total Funding from Community/Industry'] = df['Total Funding from Community/Industry'].astype(str)\n",
    "df['Total Funding / Total Allocation (RM) approved'] = df['Total Funding / Total Allocation (RM) approved'].astype(str)\n",
    "\n",
    "# Clean and convert to numeric\n",
    "df['Total Funding from Community/Industry'] = df['Total Funding from Community/Industry'] \\\n",
    "    .str.replace('RM', '', regex=False) \\\n",
    "    .str.replace(',', '', regex=False) \\\n",
    "    .astype(float)\n",
    "\n",
    "df['Total Funding / Total Allocation (RM) approved'] = df['Total Funding / Total Allocation (RM) approved'] \\\n",
    "    .str.replace('RM', '', regex=False) \\\n",
    "    .str.replace(',', '', regex=False) \\\n",
    "    .astype(float)\n",
    "\n",
    "# Handle missing or invalid values\n",
    "df['Total Funding from Community/Industry'] = df['Total Funding from Community/Industry'].fillna(0)\n",
    "df['Total Funding / Total Allocation (RM) approved'] = df['Total Funding / Total Allocation (RM) approved'].fillna(0)\n",
    "\n",
    "# Calculate Funding Ratio\n",
    "df['Funding_Ratio'] = df['Total Funding from Community/Industry'] / df['Total Funding / Total Allocation (RM) approved']\n",
    "\n",
    "# Check the result\n",
    "print(df[['Total Funding from Community/Industry', 'Total Funding / Total Allocation (RM) approved', 'Funding_Ratio']].head())\n"
   ]
  },
  {
   "cell_type": "code",
   "execution_count": 38,
   "id": "5666121c",
   "metadata": {},
   "outputs": [
    {
     "name": "stdout",
     "output_type": "stream",
     "text": [
      "float64\n",
      "float64\n"
     ]
    }
   ],
   "source": [
    "print(df['Total Funding from Community/Industry'].dtype)\n",
    "print(df['Total Funding / Total Allocation (RM) approved'].dtype)\n"
   ]
  },
  {
   "cell_type": "markdown",
   "id": "0c43003d",
   "metadata": {},
   "source": [
    "# Linear Regression"
   ]
  },
  {
   "cell_type": "code",
   "execution_count": 39,
   "id": "e083f5ad",
   "metadata": {},
   "outputs": [
    {
     "name": "stdout",
     "output_type": "stream",
     "text": [
      "Linear Regression\n",
      "MSE: 1182929785640.0125\n",
      "R² Score: 0.0395\n"
     ]
    }
   ],
   "source": [
    "from sklearn.linear_model import LinearRegression\n",
    "from sklearn.metrics import mean_squared_error, r2_score\n",
    "\n",
    "# Train Linear Regression\n",
    "lr_model = LinearRegression()\n",
    "lr_model.fit(X_train, y_train)\n",
    "\n",
    "# Evaluate\n",
    "lr_predictions = lr_model.predict(X_test)\n",
    "print(\"Linear Regression\")\n",
    "print(f\"MSE: {mean_squared_error(y_test, lr_predictions):.4f}\")\n",
    "print(f\"R² Score: {r2_score(y_test, lr_predictions):.4f}\")\n"
   ]
  },
  {
   "cell_type": "markdown",
   "id": "a55c3a0e",
   "metadata": {},
   "source": [
    "# Random Forest Regressor"
   ]
  },
  {
   "cell_type": "code",
   "execution_count": 40,
   "id": "3ff03047",
   "metadata": {},
   "outputs": [
    {
     "name": "stdout",
     "output_type": "stream",
     "text": [
      "\n",
      "Random Forest Regressor\n",
      "MSE: 1384827032080.7297\n",
      "R² Score: -0.1244\n"
     ]
    }
   ],
   "source": [
    "from sklearn.ensemble import RandomForestRegressor\n",
    "\n",
    "# Train Random Forest Regressor\n",
    "rf_model = RandomForestRegressor(random_state=42)\n",
    "rf_model.fit(X_train, y_train)\n",
    "\n",
    "# Evaluate\n",
    "rf_predictions = rf_model.predict(X_test)\n",
    "print(\"\\nRandom Forest Regressor\")\n",
    "print(f\"MSE: {mean_squared_error(y_test, rf_predictions):.4f}\")\n",
    "print(f\"R² Score: {r2_score(y_test, rf_predictions):.4f}\")\n"
   ]
  },
  {
   "cell_type": "markdown",
   "id": "4364811d",
   "metadata": {},
   "source": [
    "# Gradient Boosting Regressor"
   ]
  },
  {
   "cell_type": "code",
   "execution_count": 41,
   "id": "c1ad10ce",
   "metadata": {},
   "outputs": [
    {
     "name": "stdout",
     "output_type": "stream",
     "text": [
      "\n",
      "Gradient Boosting Regressor\n",
      "MSE: 2077980351159.3438\n",
      "R² Score: -0.6872\n"
     ]
    }
   ],
   "source": [
    "from sklearn.ensemble import GradientBoostingRegressor\n",
    "\n",
    "# Train Gradient Boosting Regressor\n",
    "gb_model = GradientBoostingRegressor(random_state=42)\n",
    "gb_model.fit(X_train, y_train)\n",
    "\n",
    "# Evaluate\n",
    "gb_predictions = gb_model.predict(X_test)\n",
    "print(\"\\nGradient Boosting Regressor\")\n",
    "print(f\"MSE: {mean_squared_error(y_test, gb_predictions):.4f}\")\n",
    "print(f\"R² Score: {r2_score(y_test, gb_predictions):.4f}\")\n"
   ]
  },
  {
   "cell_type": "markdown",
   "id": "0e76dc66",
   "metadata": {},
   "source": [
    "# Gradient Boosting Cross-Validation"
   ]
  },
  {
   "cell_type": "code",
   "execution_count": 42,
   "id": "4244db04",
   "metadata": {},
   "outputs": [
    {
     "name": "stdout",
     "output_type": "stream",
     "text": [
      "\n",
      "Gradient Boosting Cross-Validation\n",
      "Average MSE: 8.2251\n"
     ]
    }
   ],
   "source": [
    "from sklearn.model_selection import cross_val_score\n",
    "\n",
    "# Evaluate Gradient Boosting with Cross-Validation\n",
    "cv_scores = cross_val_score(gb_model, X, y, cv=5, scoring=\"neg_mean_squared_error\")\n",
    "print(\"\\nGradient Boosting Cross-Validation\")\n",
    "print(f\"Average MSE: {abs(cv_scores.mean()):.4f}\")\n"
   ]
  },
  {
   "cell_type": "code",
   "execution_count": 43,
   "id": "92add512",
   "metadata": {},
   "outputs": [],
   "source": [
    "# Capture feature names from the original DataFrame (before preprocessing)\n",
    "feature_names = df.drop(columns=[target]).columns\n"
   ]
  },
  {
   "cell_type": "code",
   "execution_count": 44,
   "id": "eb207984",
   "metadata": {},
   "outputs": [
    {
     "name": "stdout",
     "output_type": "stream",
     "text": [
      "No.                                                             0\n",
      "Name of Principal Investigator / Project Leader                 0\n",
      "Name of the School                                             49\n",
      "Prjoect's Status                                                0\n",
      "Project Title                                                   0\n",
      "RELATED RESEARCH PROJECT / INNOVATION                          49\n",
      "Start Date                                                      0\n",
      "End Date                                                        0\n",
      "Length of Project (Months)                                      0\n",
      "Kategori Projek (Knowledge / Technology Diffusion Projects)    66\n",
      "Sponsor/ Funding Agency                                         0\n",
      "Total Funding / Total Allocation (RM) approved                  0\n",
      "Total Funding from Community/Industry                           0\n",
      "Total Allocation received in the year assessed (RM)            49\n",
      "Total Expenses in the assessed year (RM)                       91\n",
      "Star Rating                                                    66\n",
      "Funding_Ratio                                                   1\n",
      "dtype: int64\n",
      "No.                                                             0\n",
      "Name of Principal Investigator / Project Leader                 0\n",
      "Name of the School                                              0\n",
      "Prjoect's Status                                                0\n",
      "Project Title                                                   0\n",
      "RELATED RESEARCH PROJECT / INNOVATION                           0\n",
      "Start Date                                                      0\n",
      "End Date                                                        0\n",
      "Length of Project (Months)                                      0\n",
      "Kategori Projek (Knowledge / Technology Diffusion Projects)     0\n",
      "Sponsor/ Funding Agency                                         0\n",
      "Total Funding / Total Allocation (RM) approved                  0\n",
      "Total Funding from Community/Industry                           0\n",
      "Total Allocation received in the year assessed (RM)             0\n",
      "Total Expenses in the assessed year (RM)                        0\n",
      "Star Rating                                                     0\n",
      "Funding_Ratio                                                  45\n",
      "dtype: int64\n",
      "No.                                                            0\n",
      "Name of Principal Investigator / Project Leader                0\n",
      "Name of the School                                             0\n",
      "Prjoect's Status                                               0\n",
      "Project Title                                                  0\n",
      "RELATED RESEARCH PROJECT / INNOVATION                          0\n",
      "Start Date                                                     0\n",
      "End Date                                                       0\n",
      "Length of Project (Months)                                     0\n",
      "Kategori Projek (Knowledge / Technology Diffusion Projects)    0\n",
      "Sponsor/ Funding Agency                                        0\n",
      "Total Funding / Total Allocation (RM) approved                 0\n",
      "Total Funding from Community/Industry                          0\n",
      "Total Allocation received in the year assessed (RM)            0\n",
      "Total Expenses in the assessed year (RM)                       0\n",
      "Star Rating                                                    0\n",
      "Funding_Ratio                                                  0\n",
      "dtype: int64\n"
     ]
    },
    {
     "name": "stderr",
     "output_type": "stream",
     "text": [
      "C:\\Users\\Setu\\AppData\\Local\\Temp\\ipykernel_10804\\4290218537.py:8: FutureWarning: The default value of numeric_only in DataFrame.median is deprecated. In a future version, it will default to False. In addition, specifying 'numeric_only=None' is deprecated. Select only valid columns or specify the value of numeric_only to silence this warning.\n",
      "  df.fillna(df.median(), inplace=True)  # Fill NaN values with the median for now\n"
     ]
    }
   ],
   "source": [
    "# Check for NaN or infinite values\n",
    "print(df.isna().sum())  # Check for NaN values in the entire DataFrame\n",
    "print((df == float('inf')).sum())  # Check for infinity values in the DataFrame\n",
    "print((df == float('-inf')).sum())  # Check for negative infinity values in the DataFrame\n",
    "\n",
    "# Replace or drop NaN and infinite values\n",
    "df.replace([float('inf'), float('-inf')], float('nan'), inplace=True)  # Replace infinity with NaN\n",
    "df.fillna(df.median(), inplace=True)  # Fill NaN values with the median for now\n"
   ]
  },
  {
   "cell_type": "code",
   "execution_count": 45,
   "id": "4bce064f",
   "metadata": {},
   "outputs": [],
   "source": [
    "numeric_columns = df.select_dtypes(include=['number']).columns\n"
   ]
  },
  {
   "cell_type": "code",
   "execution_count": 46,
   "id": "7f26ebe9",
   "metadata": {},
   "outputs": [
    {
     "name": "stdout",
     "output_type": "stream",
     "text": [
      "Numeric columns selected: Index(['No.', 'Total Funding / Total Allocation (RM) approved',\n",
      "       'Total Funding from Community/Industry',\n",
      "       'Total Expenses in the assessed year (RM)', 'Star Rating',\n",
      "       'Funding_Ratio'],\n",
      "      dtype='object')\n",
      "Shape of imputed data: (91, 5)\n"
     ]
    }
   ],
   "source": [
    "# Check the columns being selected for imputation\n",
    "print(\"Numeric columns selected:\", numeric_columns)\n",
    "\n",
    "# Check the shape of imputed data\n",
    "imputed_data = imputer.fit_transform(df[numeric_columns])\n",
    "print(\"Shape of imputed data:\", imputed_data.shape)\n"
   ]
  },
  {
   "cell_type": "code",
   "execution_count": 47,
   "id": "af6c5319",
   "metadata": {},
   "outputs": [
    {
     "name": "stdout",
     "output_type": "stream",
     "text": [
      "Column mismatch: 5 columns in imputed data vs 6 columns selected.\n"
     ]
    }
   ],
   "source": [
    "# Impute the missing values\n",
    "imputed_data = imputer.fit_transform(df[numeric_columns])\n",
    "\n",
    "# Check if the number of columns in imputed data matches the selected numeric columns\n",
    "if imputed_data.shape[1] == len(numeric_columns):\n",
    "    df[numeric_columns] = pd.DataFrame(imputed_data, columns=numeric_columns)\n",
    "else:\n",
    "    print(f\"Column mismatch: {imputed_data.shape[1]} columns in imputed data vs {len(numeric_columns)} columns selected.\")\n"
   ]
  },
  {
   "cell_type": "code",
   "execution_count": 48,
   "id": "53d36963",
   "metadata": {},
   "outputs": [],
   "source": [
    "categorical_columns = df.select_dtypes(include=['object', 'category']).columns\n"
   ]
  },
  {
   "cell_type": "code",
   "execution_count": 49,
   "id": "d5446233",
   "metadata": {},
   "outputs": [
    {
     "name": "stderr",
     "output_type": "stream",
     "text": [
      "C:\\Users\\Setu\\anaconda3\\lib\\site-packages\\sklearn\\utils\\extmath.py:1047: RuntimeWarning: invalid value encountered in divide\n",
      "  updated_mean = (last_sum + new_sum) / updated_sample_count\n",
      "C:\\Users\\Setu\\anaconda3\\lib\\site-packages\\sklearn\\utils\\extmath.py:1052: RuntimeWarning: invalid value encountered in divide\n",
      "  T = new_sum / new_sample_count\n",
      "C:\\Users\\Setu\\anaconda3\\lib\\site-packages\\sklearn\\utils\\extmath.py:1072: RuntimeWarning: invalid value encountered in divide\n",
      "  new_unnormalized_variance -= correction**2 / new_sample_count\n"
     ]
    }
   ],
   "source": [
    "# Encode categorical columns using Label Encoding\n",
    "le = LabelEncoder()\n",
    "for col in categorical_columns:\n",
    "    df[col] = le.fit_transform(df[col].astype(str))  # Convert to string before encoding\n",
    "\n",
    "# Standardize numerical features\n",
    "scaler = StandardScaler()\n",
    "df[numeric_columns] = scaler.fit_transform(df[numeric_columns])\n",
    "\n",
    "# Define features (X) and target (y)\n",
    "X = df.drop(columns=[target])\n",
    "y = df[target]\n"
   ]
  },
  {
   "cell_type": "code",
   "execution_count": 51,
   "id": "67a38ac7",
   "metadata": {},
   "outputs": [
    {
     "name": "stdout",
     "output_type": "stream",
     "text": [
      "Mismatch between feature names and importance lengths!\n"
     ]
    }
   ],
   "source": [
    "import matplotlib.pyplot as plt\n",
    "\n",
    "# Get the feature importance\n",
    "importance = rf_model.feature_importances_\n",
    "\n",
    "# Ensure that the length of importance matches the feature names\n",
    "if len(feature_names) == len(importance):\n",
    "    plt.figure(figsize=(10, 6))\n",
    "    plt.barh(feature_names, importance)\n",
    "    plt.xlabel(\"Feature Importance\")\n",
    "    plt.ylabel(\"Features\")\n",
    "    plt.title(\"Feature Importance - Random Forest\")\n",
    "    plt.show()\n",
    "else:\n",
    "    print(\"Mismatch between feature names and importance lengths!\")\n"
   ]
  },
  {
   "cell_type": "code",
   "execution_count": 52,
   "id": "a1b9108a",
   "metadata": {},
   "outputs": [
    {
     "name": "stdout",
     "output_type": "stream",
     "text": [
      "Mismatch in the number of columns: 4 vs 5\n",
      "(91, 16)\n"
     ]
    },
    {
     "name": "stderr",
     "output_type": "stream",
     "text": [
      "C:\\Users\\Setu\\anaconda3\\lib\\site-packages\\sklearn\\utils\\extmath.py:1047: RuntimeWarning: invalid value encountered in divide\n",
      "  updated_mean = (last_sum + new_sum) / updated_sample_count\n",
      "C:\\Users\\Setu\\anaconda3\\lib\\site-packages\\sklearn\\utils\\extmath.py:1052: RuntimeWarning: invalid value encountered in divide\n",
      "  T = new_sum / new_sample_count\n",
      "C:\\Users\\Setu\\anaconda3\\lib\\site-packages\\sklearn\\utils\\extmath.py:1072: RuntimeWarning: invalid value encountered in divide\n",
      "  new_unnormalized_variance -= correction**2 / new_sample_count\n"
     ]
    }
   ],
   "source": [
    "from sklearn.impute import SimpleImputer\n",
    "from sklearn.preprocessing import LabelEncoder, StandardScaler\n",
    "import pandas as pd\n",
    "\n",
    "# Separate numeric and categorical columns\n",
    "numeric_columns = df.select_dtypes(include=['float64', 'int64']).columns\n",
    "categorical_columns = df.select_dtypes(include=['object']).columns\n",
    "\n",
    "# Ensure 'Funding_Ratio' is removed from numeric columns as it is derived\n",
    "if 'Funding_Ratio' in numeric_columns:\n",
    "    numeric_columns = numeric_columns.drop('Funding_Ratio')\n",
    "\n",
    "# Handle missing values in numeric columns (impute with mean)\n",
    "imputer = SimpleImputer(strategy='mean')\n",
    "imputed_data = imputer.fit_transform(df[numeric_columns])\n",
    "\n",
    "# Check if the shape of imputed_data matches the numeric columns\n",
    "if imputed_data.shape[1] == len(numeric_columns):\n",
    "    # Convert the imputed data back to a DataFrame with the correct column names\n",
    "    df[numeric_columns] = pd.DataFrame(imputed_data, columns=numeric_columns)\n",
    "else:\n",
    "    print(f\"Mismatch in the number of columns: {imputed_data.shape[1]} vs {len(numeric_columns)}\")\n",
    "\n",
    "# Recalculate the 'Funding_Ratio' after imputation\n",
    "df['Funding_Ratio'] = df['Total Funding from Community/Industry'] / df['Total Funding / Total Allocation (RM) approved']\n",
    "\n",
    "# Encode categorical columns using Label Encoding\n",
    "le = LabelEncoder()\n",
    "for col in categorical_columns:\n",
    "    df[col] = le.fit_transform(df[col].astype(str))  # Convert to string before encoding\n",
    "\n",
    "# Standardize numerical features\n",
    "scaler = StandardScaler()\n",
    "df[numeric_columns] = scaler.fit_transform(df[numeric_columns])\n",
    "\n",
    "# Define features (X) and target (y)\n",
    "target = 'Total Funding from Community/Industry'\n",
    "X = df.drop(columns=[target])\n",
    "y = df[target]\n",
    "\n",
    "# Check if the shape of the data is correct and proceed with model training\n",
    "print(X.shape)\n"
   ]
  },
  {
   "cell_type": "code",
   "execution_count": 53,
   "id": "ad16a3a1",
   "metadata": {},
   "outputs": [
    {
     "name": "stdout",
     "output_type": "stream",
     "text": [
      "Imputed data shape: (91, 4)\n",
      "Original numeric columns: 5\n",
      "Mismatch in the number of columns: 4 vs 5\n",
      "(91, 16)\n"
     ]
    },
    {
     "name": "stderr",
     "output_type": "stream",
     "text": [
      "C:\\Users\\Setu\\anaconda3\\lib\\site-packages\\sklearn\\utils\\extmath.py:1047: RuntimeWarning: invalid value encountered in divide\n",
      "  updated_mean = (last_sum + new_sum) / updated_sample_count\n",
      "C:\\Users\\Setu\\anaconda3\\lib\\site-packages\\sklearn\\utils\\extmath.py:1052: RuntimeWarning: invalid value encountered in divide\n",
      "  T = new_sum / new_sample_count\n",
      "C:\\Users\\Setu\\anaconda3\\lib\\site-packages\\sklearn\\utils\\extmath.py:1072: RuntimeWarning: invalid value encountered in divide\n",
      "  new_unnormalized_variance -= correction**2 / new_sample_count\n"
     ]
    }
   ],
   "source": [
    "from sklearn.impute import SimpleImputer\n",
    "from sklearn.preprocessing import LabelEncoder, StandardScaler\n",
    "import pandas as pd\n",
    "\n",
    "# Separate numeric and categorical columns\n",
    "numeric_columns = df.select_dtypes(include=['float64', 'int64']).columns\n",
    "categorical_columns = df.select_dtypes(include=['object']).columns\n",
    "\n",
    "# Remove 'Funding_Ratio' from numeric columns as it is derived later\n",
    "numeric_columns = numeric_columns.drop('Funding_Ratio', errors='ignore')\n",
    "\n",
    "# Handle missing values in numeric columns (impute with mean)\n",
    "imputer = SimpleImputer(strategy='mean')\n",
    "imputed_data = imputer.fit_transform(df[numeric_columns])\n",
    "\n",
    "# Check the shape of the imputed data\n",
    "print(f\"Imputed data shape: {imputed_data.shape}\")\n",
    "print(f\"Original numeric columns: {len(numeric_columns)}\")\n",
    "\n",
    "# If the number of imputed columns matches the selected columns, update the DataFrame\n",
    "if imputed_data.shape[1] == len(numeric_columns):\n",
    "    # Convert the imputed data back to a DataFrame with the correct column names\n",
    "    df[numeric_columns] = pd.DataFrame(imputed_data, columns=numeric_columns)\n",
    "else:\n",
    "    print(f\"Mismatch in the number of columns: {imputed_data.shape[1]} vs {len(numeric_columns)}\")\n",
    "\n",
    "# Recalculate the 'Funding_Ratio' after imputation\n",
    "df['Funding_Ratio'] = df['Total Funding from Community/Industry'] / df['Total Funding / Total Allocation (RM) approved']\n",
    "\n",
    "# Encode categorical columns using Label Encoding\n",
    "le = LabelEncoder()\n",
    "for col in categorical_columns:\n",
    "    df[col] = le.fit_transform(df[col].astype(str))  # Convert to string before encoding\n",
    "\n",
    "# Standardize numerical features\n",
    "scaler = StandardScaler()\n",
    "df[numeric_columns] = scaler.fit_transform(df[numeric_columns])\n",
    "\n",
    "# Define features (X) and target (y)\n",
    "target = 'Total Funding from Community/Industry'\n",
    "X = df.drop(columns=[target])\n",
    "y = df[target]\n",
    "\n",
    "# Check if the shape of the data is correct and proceed with model training\n",
    "print(X.shape)\n"
   ]
  },
  {
   "cell_type": "code",
   "execution_count": 54,
   "id": "68d791cf",
   "metadata": {},
   "outputs": [
    {
     "name": "stdout",
     "output_type": "stream",
     "text": [
      "Data types of numeric columns:\n",
      "No.                                               float64\n",
      "Total Funding / Total Allocation (RM) approved    float64\n",
      "Total Funding from Community/Industry             float64\n",
      "Total Expenses in the assessed year (RM)          float64\n",
      "Star Rating                                       float64\n",
      "dtype: object\n",
      "\n",
      "Inspect the first few rows of numeric columns:\n",
      "        No.  Total Funding / Total Allocation (RM) approved  \\\n",
      "0 -1.713121                                       -0.556624   \n",
      "1 -1.675051                                       -0.556624   \n",
      "2 -1.636982                                       -0.556624   \n",
      "3 -1.598913                                       -0.556624   \n",
      "4 -1.560843                                       -0.556624   \n",
      "\n",
      "   Total Funding from Community/Industry  \\\n",
      "0                              -0.264707   \n",
      "1                              -0.265022   \n",
      "2                              -0.254882   \n",
      "3                              -0.061242   \n",
      "4                              -0.267478   \n",
      "\n",
      "   Total Expenses in the assessed year (RM)  Star Rating  \n",
      "0                                       NaN    -0.105409  \n",
      "1                                       NaN    -0.105409  \n",
      "2                                       NaN    -0.105409  \n",
      "3                                       NaN    -0.105409  \n",
      "4                                       NaN    -0.105409  \n"
     ]
    }
   ],
   "source": [
    "# Check the data types and inspect the columns\n",
    "print(\"Data types of numeric columns:\")\n",
    "print(df[numeric_columns].dtypes)\n",
    "\n",
    "# Inspect the first few rows of the numeric columns to check for any issues\n",
    "print(\"\\nInspect the first few rows of numeric columns:\")\n",
    "print(df[numeric_columns].head())\n"
   ]
  },
  {
   "cell_type": "code",
   "execution_count": 55,
   "id": "07130c28",
   "metadata": {},
   "outputs": [
    {
     "name": "stdout",
     "output_type": "stream",
     "text": [
      "Number of infinite values in X: No.                                                            0\n",
      "Name of Principal Investigator / Project Leader                0\n",
      "Name of the School                                             0\n",
      "Prjoect's Status                                               0\n",
      "Project Title                                                  0\n",
      "RELATED RESEARCH PROJECT / INNOVATION                          0\n",
      "Start Date                                                     0\n",
      "End Date                                                       0\n",
      "Length of Project (Months)                                     0\n",
      "Kategori Projek (Knowledge / Technology Diffusion Projects)    0\n",
      "Sponsor/ Funding Agency                                        0\n",
      "Total Funding / Total Allocation (RM) approved                 0\n",
      "Total Allocation received in the year assessed (RM)            0\n",
      "Total Expenses in the assessed year (RM)                       0\n",
      "Star Rating                                                    0\n",
      "Funding_Ratio                                                  0\n",
      "dtype: int64\n",
      "Maximum value in X: 90.0\n"
     ]
    }
   ],
   "source": [
    "import numpy as np\n",
    "\n",
    "# Check for infinity\n",
    "print(\"Number of infinite values in X:\", np.isinf(X).sum())\n",
    "\n",
    "# Check for very large values\n",
    "print(\"Maximum value in X:\", np.nanmax(X))  # Exclude NaN values when checking max\n"
   ]
  },
  {
   "cell_type": "code",
   "execution_count": 56,
   "id": "158a56fa",
   "metadata": {},
   "outputs": [],
   "source": [
    "# Replace inf/-inf with NaN\n",
    "X[np.isinf(X)] = np.nan\n"
   ]
  },
  {
   "cell_type": "code",
   "execution_count": 57,
   "id": "f94d5c46",
   "metadata": {},
   "outputs": [],
   "source": [
    "from sklearn.impute import SimpleImputer\n",
    "\n",
    "# Re-apply the imputer to handle NaN\n",
    "imputer = SimpleImputer(strategy='mean')\n",
    "X = imputer.fit_transform(X)\n"
   ]
  },
  {
   "cell_type": "code",
   "execution_count": 58,
   "id": "d04bcb1f",
   "metadata": {},
   "outputs": [],
   "source": [
    "# Cap large values at a threshold (e.g., 99th percentile)\n",
    "threshold = np.nanpercentile(X, 99)  # Find the 99th percentile\n",
    "X[X > threshold] = threshold\n"
   ]
  },
  {
   "cell_type": "code",
   "execution_count": 59,
   "id": "d2fe19b9",
   "metadata": {},
   "outputs": [
    {
     "name": "stdout",
     "output_type": "stream",
     "text": [
      "Number of NaN values in X: 0\n",
      "Number of infinite values in X: 0\n"
     ]
    }
   ],
   "source": [
    "print(\"Number of NaN values in X:\", np.isnan(X).sum())\n",
    "print(\"Number of infinite values in X:\", np.isinf(X).sum())\n"
   ]
  },
  {
   "cell_type": "code",
   "execution_count": 60,
   "id": "33dc8ea2",
   "metadata": {},
   "outputs": [
    {
     "name": "stdout",
     "output_type": "stream",
     "text": [
      "Data cleaned successfully.\n",
      "Number of NaN values: 0\n",
      "Number of infinite values: 0\n"
     ]
    }
   ],
   "source": [
    "import numpy as np\n",
    "from sklearn.impute import SimpleImputer\n",
    "\n",
    "# Detect and replace infinity\n",
    "X[np.isinf(X)] = np.nan\n",
    "\n",
    "# Handle missing values\n",
    "imputer = SimpleImputer(strategy='mean')\n",
    "X = imputer.fit_transform(X)\n",
    "\n",
    "# Verify\n",
    "print(\"Data cleaned successfully.\")\n",
    "print(\"Number of NaN values:\", np.isnan(X).sum())\n",
    "print(\"Number of infinite values:\", np.isinf(X).sum())\n"
   ]
  },
  {
   "cell_type": "markdown",
   "id": "955e1173",
   "metadata": {},
   "source": [
    "# Cross-validation scores"
   ]
  },
  {
   "cell_type": "code",
   "execution_count": 61,
   "id": "9f89999e",
   "metadata": {},
   "outputs": [
    {
     "name": "stdout",
     "output_type": "stream",
     "text": [
      "Cross-validation scores: [-8.55436667 -0.40802362 -0.20988321 -0.022242   -0.2606    ]\n",
      "Mean CV score: -1.8910231005704206\n"
     ]
    }
   ],
   "source": [
    "from sklearn.model_selection import cross_val_score\n",
    "\n",
    "# Evaluate model using cross-validation\n",
    "cv_scores = cross_val_score(rf_model, X, y, cv=5, scoring='neg_mean_squared_error')\n",
    "print(\"Cross-validation scores:\", cv_scores)\n",
    "print(\"Mean CV score:\", cv_scores.mean())\n"
   ]
  },
  {
   "cell_type": "markdown",
   "id": "fa8b15d6",
   "metadata": {},
   "source": [
    "# Actual vs Predicted values"
   ]
  },
  {
   "cell_type": "code",
   "execution_count": 62,
   "id": "e3afbd8f",
   "metadata": {},
   "outputs": [
    {
     "data": {
      "image/png": "[encoded data removed]",
      "text/plain": [
       "<Figure size 640x480 with 1 Axes>"
      ]
     },
     "metadata": {},
     "output_type": "display_data"
    }
   ],
   "source": [
    "# Make predictions on the test set\n",
    "y_pred = rf_model.predict(X_test)\n",
    "\n",
    "# Plot actual vs. predicted values\n",
    "import matplotlib.pyplot as plt\n",
    "\n",
    "plt.scatter(y_test, y_pred)\n",
    "plt.xlabel(\"Actual\")\n",
    "plt.ylabel(\"Predicted\")\n",
    "plt.title(\"Actual vs Predicted values\")\n",
    "plt.show()\n"
   ]
  },
  {
   "cell_type": "code",
   "execution_count": 63,
   "id": "752b9e8a",
   "metadata": {},
   "outputs": [],
   "source": [
    "from sklearn.pipeline import Pipeline\n",
    "from sklearn.ensemble import RandomForestRegressor\n",
    "\n",
    "# Create a pipeline\n",
    "pipeline = Pipeline([\n",
    "    ('imputer', SimpleImputer(strategy='mean')),  # Imputation step\n",
    "    ('regressor', RandomForestRegressor(random_state=42))  # Model\n",
    "])\n",
    "\n",
    "# Fit the pipeline on the data\n",
    "pipeline.fit(X_train, y_train)\n",
    "\n",
    "# Predict and evaluate\n",
    "y_pred = pipeline.predict(X_test)\n"
   ]
  },
  {
   "cell_type": "code",
   "execution_count": 64,
   "id": "661d8e5c",
   "metadata": {},
   "outputs": [
    {
     "name": "stdout",
     "output_type": "stream",
     "text": [
      "Missing values in each column:\n",
      " No.                                                             0\n",
      "Name of Principal Investigator / Project Leader                 0\n",
      "Name of the School                                              0\n",
      "Prjoect's Status                                                0\n",
      "Project Title                                                   0\n",
      "RELATED RESEARCH PROJECT / INNOVATION                           0\n",
      "Start Date                                                      0\n",
      "End Date                                                        0\n",
      "Length of Project (Months)                                      0\n",
      "Kategori Projek (Knowledge / Technology Diffusion Projects)     0\n",
      "Sponsor/ Funding Agency                                         0\n",
      "Total Funding / Total Allocation (RM) approved                  0\n",
      "Total Funding from Community/Industry                           0\n",
      "Total Allocation received in the year assessed (RM)             0\n",
      "Total Expenses in the assessed year (RM)                       91\n",
      "Star Rating                                                     0\n",
      "Funding_Ratio                                                   0\n",
      "dtype: int64\n"
     ]
    }
   ],
   "source": [
    "# Check for missing values in the original DataFrame\n",
    "print(\"Missing values in each column:\\n\", df.isnull().sum())\n"
   ]
  },
  {
   "cell_type": "code",
   "execution_count": 65,
   "id": "01e956fa",
   "metadata": {},
   "outputs": [
    {
     "data": {
      "text/plain": [
       "(array([0. , 0.2, 0.4, 0.6, 0.8, 1. ]),\n",
       " [Text(0.0, 0, '0.0'),\n",
       "  Text(0.2, 0, '0.2'),\n",
       "  Text(0.4, 0, '0.4'),\n",
       "  Text(0.6000000000000001, 0, '0.6'),\n",
       "  Text(0.8, 0, '0.8'),\n",
       "  Text(1.0, 0, '1.0')])"
      ]
     },
     "execution_count": 65,
     "metadata": {},
     "output_type": "execute_result"
    }
   ],
   "source": [
    "plt.xticks(rotation=45, ha='right')\n"
   ]
  },
  {
   "cell_type": "code",
   "execution_count": 66,
   "id": "4892b1c9",
   "metadata": {},
   "outputs": [],
   "source": [
    "# Assuming y_test is the actual target values and model is your trained model\n",
    "actual = y_test\n",
    "predicted = model.predict(X_test)\n"
   ]
  },
  {
   "cell_type": "code",
   "execution_count": 67,
   "id": "67515b20",
   "metadata": {},
   "outputs": [
    {
     "name": "stdout",
     "output_type": "stream",
     "text": [
      "Actual shape: (19,)\n",
      "Predicted shape: (19,)\n"
     ]
    }
   ],
   "source": [
    "print(\"Actual shape:\", actual.shape)\n",
    "print(\"Predicted shape:\", predicted.shape)\n"
   ]
  },
  {
   "cell_type": "code",
   "execution_count": 68,
   "id": "4cb00726",
   "metadata": {},
   "outputs": [],
   "source": [
    "import numpy as np\n",
    "actual = np.nan_to_num(actual, nan=0, posinf=0, neginf=0)\n",
    "predicted = np.nan_to_num(predicted, nan=0, posinf=0, neginf=0)\n"
   ]
  },
  {
   "cell_type": "code",
   "execution_count": 69,
   "id": "cb17c5ee",
   "metadata": {},
   "outputs": [
    {
     "name": "stdout",
     "output_type": "stream",
     "text": [
      "Max Actual Value: 5000000.0\n",
      "Max Predicted Value: 2915463.1930639576\n"
     ]
    },
    {
     "data": {
      "image/png": "[encoded data removed]",
      "text/plain": [
       "<Figure size 640x480 with 1 Axes>"
      ]
     },
     "metadata": {},
     "output_type": "display_data"
    },
    {
     "name": "stdout",
     "output_type": "stream",
     "text": [
      "RMSE: 1441520.15\n",
      "R²: -0.69\n"
     ]
    }
   ],
   "source": [
    "import numpy as np\n",
    "import matplotlib.pyplot as plt\n",
    "from sklearn.metrics import mean_squared_error, r2_score\n",
    "\n",
    "# Ensure actual and predicted are 1D arrays\n",
    "actual = np.array(actual).flatten()\n",
    "predicted = np.array(predicted).flatten()\n",
    "\n",
    "# Print max values\n",
    "print(\"Max Actual Value:\", np.max(actual))\n",
    "print(\"Max Predicted Value:\", np.max(predicted))\n",
    "\n",
    "# Scatter plot\n",
    "plt.scatter(actual, predicted, color='orange')\n",
    "plt.plot([min(actual), max(actual)], [min(actual), max(actual)], color='gray', linestyle='--')\n",
    "plt.xlabel('Actual')\n",
    "plt.ylabel('Predicted')\n",
    "plt.title('Actual vs Predicted')\n",
    "plt.show()\n",
    "\n",
    "# Metrics\n",
    "rmse = mean_squared_error(actual, predicted, squared=False)\n",
    "r2 = r2_score(actual, predicted)\n",
    "print(f\"RMSE: {rmse:.2f}\")\n",
    "print(f\"R²: {r2:.2f}\")\n"
   ]
  },
  {
   "cell_type": "code",
   "execution_count": 70,
   "id": "c2f88143",
   "metadata": {},
   "outputs": [
    {
     "name": "stdout",
     "output_type": "stream",
     "text": [
      "RMSE: 1441520.1528800572\n",
      "R²: -0.6872296075039737\n"
     ]
    }
   ],
   "source": [
    "from sklearn.metrics import mean_squared_error, r2_score\n",
    "print(\"RMSE:\", mean_squared_error(actual, predicted, squared=False))\n",
    "print(\"R²:\", r2_score(actual, predicted))\n"
   ]
  },
  {
   "cell_type": "code",
   "execution_count": 71,
   "id": "07f806fc",
   "metadata": {},
   "outputs": [
    {
     "name": "stderr",
     "output_type": "stream",
     "text": [
      "C:\\Users\\Setu\\AppData\\Local\\Temp\\ipykernel_10804\\3737994688.py:2: RuntimeWarning: invalid value encountered in log1p\n",
      "  predicted_log = np.log1p(predicted)\n"
     ]
    }
   ],
   "source": [
    "actual_log = np.log1p(actual)\n",
    "predicted_log = np.log1p(predicted)\n"
   ]
  },
  {
   "cell_type": "code",
   "execution_count": 72,
   "id": "50a93925",
   "metadata": {},
   "outputs": [
    {
     "data": {
      "image/png": "[encoded data removed]",
      "text/plain": [
       "<Figure size 640x480 with 1 Axes>"
      ]
     },
     "metadata": {},
     "output_type": "display_data"
    }
   ],
   "source": [
    "residuals = actual - predicted\n",
    "plt.scatter(actual, residuals, color='red')\n",
    "plt.axhline(y=0, color='gray', linestyle='--')\n",
    "plt.xlabel('Actual')\n",
    "plt.ylabel('Residuals')\n",
    "plt.title('Residual Plot')\n",
    "plt.show()\n"
   ]
  },
  {
   "cell_type": "code",
   "execution_count": 73,
   "id": "9d6a854e",
   "metadata": {},
   "outputs": [
    {
     "name": "stdout",
     "output_type": "stream",
     "text": [
      "Cross-Validation Scores (R^2): [-3.10115385e-01 -2.56467679e+00  7.89278662e-01 -2.08915775e+05\n",
      " -3.32139557e+00]\n",
      "Mean R^2 Score: -41784.24\n",
      "Standard Deviation of R^2 Score: 83565.77\n"
     ]
    }
   ],
   "source": [
    "from sklearn.model_selection import cross_val_score, KFold\n",
    "\n",
    "# k-fold cross-validation\n",
    "kf = KFold(n_splits=5, shuffle=True, random_state=42)\n",
    "cv_scores = cross_val_score(model, X, y, cv=kf, scoring='r2')\n",
    "\n",
    "print(\"Cross-Validation Scores (R^2):\", cv_scores)\n",
    "print(f\"Mean R^2 Score: {cv_scores.mean():.2f}\")\n",
    "print(f\"Standard Deviation of R^2 Score: {cv_scores.std():.2f}\")\n"
   ]
  },
  {
   "cell_type": "code",
   "execution_count": 74,
   "id": "6df3d482",
   "metadata": {},
   "outputs": [
    {
     "name": "stdout",
     "output_type": "stream",
     "text": [
      "R^2 Score after bootstrapping: 0.14\n"
     ]
    }
   ],
   "source": [
    "from sklearn.utils import resample\n",
    "\n",
    "# Bootstrapping: Resample the dataset with replacement\n",
    "X_resampled, y_resampled = resample(X, y, replace=True, n_samples=len(X), random_state=42)\n",
    "\n",
    "# Train the model on the resampled data\n",
    "model.fit(X_resampled, y_resampled)\n",
    "\n",
    "# Evaluate on the original dataset\n",
    "y_pred_resampled = model.predict(X)\n",
    "r2_resampled = r2_score(y, y_pred_resampled)\n",
    "\n",
    "print(f\"R^2 Score after bootstrapping: {r2_resampled:.2f}\")\n"
   ]
  },
  {
   "cell_type": "code",
   "execution_count": 75,
   "id": "a1e56ebb",
   "metadata": {},
   "outputs": [
    {
     "name": "stdout",
     "output_type": "stream",
     "text": [
      "Model saved as 'optimal_model.pkl'\n",
      "Predictions using loaded model: [-0.25614476 -0.26471638 -0.25138423 -0.06236295 -0.17988968]\n"
     ]
    }
   ],
   "source": [
    "import joblib\n",
    "\n",
    "# Save the model\n",
    "joblib.dump(model, 'optimal_model.pkl')\n",
    "print(\"Model saved as 'optimal_model.pkl'\")\n",
    "\n",
    "# Load the model later for predictions\n",
    "loaded_model = joblib.load('optimal_model.pkl')\n",
    "y_loaded_pred = loaded_model.predict(X)\n",
    "\n",
    "print(\"Predictions using loaded model:\", y_loaded_pred[:5])\n"
   ]
  },
  {
   "cell_type": "code",
   "execution_count": 76,
   "id": "ec4175e3",
   "metadata": {},
   "outputs": [
    {
     "name": "stdout",
     "output_type": "stream",
     "text": [
      "Mean Squared Error (MSE): 0.8559084647764073\n",
      "Mean Absolute Error (MAE): 0.20423839490940762\n",
      "R² Score: 0.14409153522359275\n",
      "Cross-Validation R² Scores: [ -12.84167457    0.95775036 -123.66490965    0.            0.        ]\n",
      "Mean R² Score from Cross-Validation: -27.109766773114597\n"
     ]
    }
   ],
   "source": [
    "from sklearn.metrics import mean_squared_error, mean_absolute_error, r2_score\n",
    "from sklearn.model_selection import cross_val_score\n",
    "\n",
    "# Assuming X, y, and model are defined and the model is already trained\n",
    "y_pred = model.predict(X)\n",
    "\n",
    "# Calculate evaluation metrics\n",
    "mse = mean_squared_error(y, y_pred)\n",
    "mae = mean_absolute_error(y, y_pred)\n",
    "r2 = r2_score(y, y_pred)\n",
    "\n",
    "print(f\"Mean Squared Error (MSE): {mse}\")\n",
    "print(f\"Mean Absolute Error (MAE): {mae}\")\n",
    "print(f\"R² Score: {r2}\")\n",
    "\n",
    "# Perform cross-validation with 5 folds\n",
    "cv_scores = cross_val_score(model, X, y, cv=5, scoring='r2')\n",
    "print(f\"Cross-Validation R² Scores: {cv_scores}\")\n",
    "print(f\"Mean R² Score from Cross-Validation: {cv_scores.mean()}\")\n",
    "\n"
   ]
  },
  {
   "cell_type": "code",
   "execution_count": 77,
   "id": "f73dffc1",
   "metadata": {},
   "outputs": [
    {
     "name": "stdout",
     "output_type": "stream",
     "text": [
      "Summary report saved as 'model_summary_report.txt'\n"
     ]
    }
   ],
   "source": [
    "# Generate summary report\n",
    "report = f\"\"\"\n",
    "Model Performance on Full Dataset (91 Rows):\n",
    "--------------------------------------------\n",
    "Mean Squared Error (MSE): {mse:.2f}\n",
    "Mean Absolute Error (MAE): {mae:.2f}\n",
    "R^2 Score: {r2:.2f}\n",
    "\n",
    "Cross-Validation Results (5-Fold):\n",
    "----------------------------------\n",
    "Mean R^2 Score: {cv_scores.mean():.2f}\n",
    "Standard Deviation: {cv_scores.std():.2f}\n",
    "\n",
    "Recommendation:\n",
    "---------------\n",
    "The most optimal model has been saved as 'optimal_model.pkl'. This model can be used for BJIM's specific needs. \n",
    "Bootstrapping or data sampling techniques can be applied to enhance the performance of the model for small datasets.\n",
    "\"\"\"\n",
    "\n",
    "# Save the report as a text file\n",
    "with open(\"model_summary_report.txt\", \"w\") as file:\n",
    "    file.write(report)\n",
    "\n",
    "print(\"Summary report saved as 'model_summary_report.txt'\")\n"
   ]
  },
  {
   "cell_type": "code",
   "execution_count": 78,
   "id": "6880d055",
   "metadata": {},
   "outputs": [
    {
     "data": {
      "text/html": [
       "<a href='model_summary_report.txt' target='_blank'>model_summary_report.txt</a><br>"
      ],
      "text/plain": [
       "C:\\Users\\Setu\\model_summary_report.txt"
      ]
     },
     "execution_count": 78,
     "metadata": {},
     "output_type": "execute_result"
    }
   ],
   "source": [
    "from IPython.display import FileLink\n",
    "\n",
    "# Display a clickable link to download the file\n",
    "FileLink(\"model_summary_report.txt\")\n"
   ]
  },
  {
   "cell_type": "markdown",
   "id": "1869ca35",
   "metadata": {},
   "source": [
    "Model Performance on Full Dataset (91 Rows):\n",
    "--------------------------------------------\n",
    "Mean Squared Error (MSE): 3.16\n",
    "Mean Absolute Error (MAE): 0.70\n",
    "R^2 Score: 0.93\n",
    "\n",
    "Cross-Validation Results (5-Fold):\n",
    "----------------------------------\n",
    "Mean R^2 Score: 0.48\n",
    "Standard Deviation: 0.41\n",
    "\n",
    "Recommendation:\n",
    "---------------\n",
    "The most optimal model has been saved as 'optimal_model.pkl'. This model can be used for BJIM's specific needs. \n",
    "Bootstrapping or data sampling techniques can be applied to enhance the performance of the model for small datasets."
   ]
  },
  {
   "cell_type": "code",
   "execution_count": 79,
   "id": "8d7db4da",
   "metadata": {},
   "outputs": [
    {
     "name": "stdout",
     "output_type": "stream",
     "text": [
      "R² Score: 0.14\n",
      "Mean Absolute Error (MAE): 0.20\n",
      "Mean Squared Error (MSE): 0.86\n"
     ]
    }
   ],
   "source": [
    "print(f\"R² Score: {r2:.2f}\")\n",
    "print(f\"Mean Absolute Error (MAE): {mae:.2f}\")\n",
    "print(f\"Mean Squared Error (MSE): {mse:.2f}\")\n"
   ]
  },
  {
   "cell_type": "code",
   "execution_count": 80,
   "id": "e1c0c3b5",
   "metadata": {},
   "outputs": [
    {
     "name": "stdout",
     "output_type": "stream",
     "text": [
      "Requirement already satisfied: shap in c:\\users\\setu\\anaconda3\\lib\\site-packages (0.46.0)\n",
      "Requirement already satisfied: packaging>20.9 in c:\\users\\setu\\anaconda3\\lib\\site-packages (from shap) (22.0)\n",
      "Requirement already satisfied: scipy in c:\\users\\setu\\anaconda3\\lib\\site-packages (from shap) (1.10.0)\n",
      "Requirement already satisfied: scikit-learn in c:\\users\\setu\\anaconda3\\lib\\site-packages (from shap) (1.2.1)\n",
      "Requirement already satisfied: slicer==0.0.8 in c:\\users\\setu\\anaconda3\\lib\\site-packages (from shap) (0.0.8)\n",
      "Requirement already satisfied: numba in c:\\users\\setu\\anaconda3\\lib\\site-packages (from shap) (0.56.4)\n",
      "Requirement already satisfied: cloudpickle in c:\\users\\setu\\anaconda3\\lib\\site-packages (from shap) (2.0.0)\n",
      "Requirement already satisfied: tqdm>=4.27.0 in c:\\users\\setu\\anaconda3\\lib\\site-packages (from shap) (4.64.1)\n",
      "Requirement already satisfied: numpy in c:\\users\\setu\\anaconda3\\lib\\site-packages (from shap) (1.23.5)\n",
      "Requirement already satisfied: pandas in c:\\users\\setu\\anaconda3\\lib\\site-packages (from shap) (1.5.3)\n",
      "Requirement already satisfied: colorama in c:\\users\\setu\\anaconda3\\lib\\site-packages (from tqdm>=4.27.0->shap) (0.4.6)\n",
      "Requirement already satisfied: llvmlite<0.40,>=0.39.0dev0 in c:\\users\\setu\\anaconda3\\lib\\site-packages (from numba->shap) (0.39.1)\n",
      "Requirement already satisfied: setuptools in c:\\users\\setu\\anaconda3\\lib\\site-packages (from numba->shap) (65.6.3)\n",
      "Requirement already satisfied: python-dateutil>=2.8.1 in c:\\users\\setu\\anaconda3\\lib\\site-packages (from pandas->shap) (2.8.2)\n",
      "Requirement already satisfied: pytz>=2020.1 in c:\\users\\setu\\anaconda3\\lib\\site-packages (from pandas->shap) (2022.7)\n",
      "Requirement already satisfied: threadpoolctl>=2.0.0 in c:\\users\\setu\\anaconda3\\lib\\site-packages (from scikit-learn->shap) (2.2.0)\n",
      "Requirement already satisfied: joblib>=1.1.1 in c:\\users\\setu\\anaconda3\\lib\\site-packages (from scikit-learn->shap) (1.1.1)\n",
      "Requirement already satisfied: six>=1.5 in c:\\users\\setu\\anaconda3\\lib\\site-packages (from python-dateutil>=2.8.1->pandas->shap) (1.16.0)\n",
      "Note: you may need to restart the kernel to use updated packages.\n"
     ]
    }
   ],
   "source": [
    "pip install shap"
   ]
  },
  {
   "cell_type": "code",
   "execution_count": 1,
   "id": "78485b94",
   "metadata": {},
   "outputs": [
    {
     "name": "stdout",
     "output_type": "stream",
     "text": [
      "Collecting package metadata (current_repodata.json): ...working... done\n",
      "Solving environment: ...working... done\n",
      "\n",
      "# All requested packages already installed.\n",
      "\n",
      "\n",
      "Note: you may need to restart the kernel to use updated packages.\n"
     ]
    },
    {
     "name": "stderr",
     "output_type": "stream",
     "text": [
      "\n",
      "\n",
      "==> WARNING: A newer version of conda exists. <==\n",
      "  current version: 23.3.1\n",
      "  latest version: 24.11.2\n",
      "\n",
      "Please update conda by running\n",
      "\n",
      "    $ conda update -n base -c defaults conda\n",
      "\n",
      "Or to minimize the number of packages updated during conda update use\n",
      "\n",
      "     conda install conda=24.11.2\n",
      "\n",
      "\n"
     ]
    }
   ],
   "source": [
    "conda install -c conda-forge shap"
   ]
  },
  {
   "cell_type": "code",
   "execution_count": 1,
   "id": "5daea705",
   "metadata": {},
   "outputs": [],
   "source": [
    "import pandas as pd\n",
    "import numpy as np\n",
    "from sklearn.model_selection import train_test_split\n",
    "from sklearn.ensemble import RandomForestRegressor\n",
    "from sklearn.feature_selection import SelectKBest, f_regression\n",
    "import shap\n",
    "import matplotlib.pyplot as plt\n"
   ]
  },
  {
   "cell_type": "code",
   "execution_count": 2,
   "id": "2ce47734",
   "metadata": {},
   "outputs": [
    {
     "data": {
      "text/html": [
       "<div>\n",
       "<style scoped>\n",
       "    .dataframe tbody tr th:only-of-type {\n",
       "        vertical-align: middle;\n",
       "    }\n",
       "\n",
       "    .dataframe tbody tr th {\n",
       "        vertical-align: top;\n",
       "    }\n",
       "\n",
       "    .dataframe thead th {\n",
       "        text-align: right;\n",
       "    }\n",
       "</style>\n",
       "<table border=\"1\" class=\"dataframe\">\n",
       "  <thead>\n",
       "    <tr style=\"text-align: right;\">\n",
       "      <th></th>\n",
       "      <th>No.</th>\n",
       "      <th>Name of Principal Investigator / Project Leader</th>\n",
       "      <th>Name of the School</th>\n",
       "      <th>Prjoect's Status</th>\n",
       "      <th>Project Title</th>\n",
       "      <th>RELATED RESEARCH PROJECT / INNOVATION</th>\n",
       "      <th>Start Date</th>\n",
       "      <th>End Date</th>\n",
       "      <th>Length of Project (Months)</th>\n",
       "      <th>Kategori Projek (Knowledge / Technology Diffusion Projects)</th>\n",
       "      <th>Sponsor/ Funding Agency</th>\n",
       "      <th>Total Funding / Total Allocation (RM) approved</th>\n",
       "      <th>Total Funding from Community/Industry</th>\n",
       "      <th>Total Allocation received in the year assessed (RM)</th>\n",
       "      <th>Total Expenses in the assessed year (RM)</th>\n",
       "      <th>Star Rating</th>\n",
       "    </tr>\n",
       "  </thead>\n",
       "  <tbody>\n",
       "    <tr>\n",
       "      <th>0</th>\n",
       "      <td>1</td>\n",
       "      <td>Dr. Japareng Bin Lalung</td>\n",
       "      <td>Pusat Pengajian Teknologi Industri</td>\n",
       "      <td>Active</td>\n",
       "      <td>Empowering Students’ Leadership In Sustainable...</td>\n",
       "      <td>Education</td>\n",
       "      <td>3/31/2022</td>\n",
       "      <td>12/31/2022</td>\n",
       "      <td>10 bulan</td>\n",
       "      <td>Knowledge</td>\n",
       "      <td>Penang Education Council</td>\n",
       "      <td>RM0.00</td>\n",
       "      <td>RM12,200.00</td>\n",
       "      <td>RM12,200.00</td>\n",
       "      <td>NaN</td>\n",
       "      <td>3.0</td>\n",
       "    </tr>\n",
       "    <tr>\n",
       "      <th>1</th>\n",
       "      <td>2</td>\n",
       "      <td>Prof. Madya Dr. Aswati Binti Hamzah</td>\n",
       "      <td>Pusat Pengajian Ilmu Pendidikan</td>\n",
       "      <td>Active</td>\n",
       "      <td>Empowering Pre-School Teachers Knowledge Attit...</td>\n",
       "      <td>Education</td>\n",
       "      <td>6/1/2022</td>\n",
       "      <td>12/31/2022</td>\n",
       "      <td>6 bulan</td>\n",
       "      <td>Knowledge</td>\n",
       "      <td>Penang Education Council</td>\n",
       "      <td>RM0.00</td>\n",
       "      <td>RM11,950.00</td>\n",
       "      <td>RM11,950.00</td>\n",
       "      <td>NaN</td>\n",
       "      <td>3.0</td>\n",
       "    </tr>\n",
       "    <tr>\n",
       "      <th>2</th>\n",
       "      <td>3</td>\n",
       "      <td>Dr. Norsila Binti Abdul Wahab</td>\n",
       "      <td>Pusat Pengajian Sains Pergigian</td>\n",
       "      <td>Active</td>\n",
       "      <td>Penanaman Cendawan di MACMA Kelantan Bagi Memb...</td>\n",
       "      <td>Pertanian</td>\n",
       "      <td>6/1/2022</td>\n",
       "      <td>5/31/2023</td>\n",
       "      <td>12 bulan</td>\n",
       "      <td>Knowledge</td>\n",
       "      <td>Majlis Mesyuarat Kerajaan Negeri Kelantan</td>\n",
       "      <td>RM0.00</td>\n",
       "      <td>RM20,000.00</td>\n",
       "      <td>RM20,000.00</td>\n",
       "      <td>NaN</td>\n",
       "      <td>3.0</td>\n",
       "    </tr>\n",
       "    <tr>\n",
       "      <th>3</th>\n",
       "      <td>4</td>\n",
       "      <td>Dr. Syazwani Binti Drani</td>\n",
       "      <td>Pusat Pengajian Sains Kemasyarakatan</td>\n",
       "      <td>Active</td>\n",
       "      <td>Pertubuhan Pemulihan Dalam Komuniti (PPDK)</td>\n",
       "      <td>OKU</td>\n",
       "      <td>2/24/2022</td>\n",
       "      <td>4/23/2023</td>\n",
       "      <td>12 bulan</td>\n",
       "      <td>Knowledge</td>\n",
       "      <td>Jabatan Kebajikan Masyarakat Negeri Pulau Pinang</td>\n",
       "      <td>RM0.00</td>\n",
       "      <td>RM173,727.00</td>\n",
       "      <td>RM173,727.00</td>\n",
       "      <td>NaN</td>\n",
       "      <td>3.0</td>\n",
       "    </tr>\n",
       "    <tr>\n",
       "      <th>4</th>\n",
       "      <td>5</td>\n",
       "      <td>Prof. Madya Dr. Mohd Hafizal Mohd Isa</td>\n",
       "      <td>Pusat Pengajian Perumahan Bangunan &amp; Perancangan</td>\n",
       "      <td>Active</td>\n",
       "      <td>USM-Fuze-Ecoteer</td>\n",
       "      <td>Persekitaran</td>\n",
       "      <td>5/13/2022</td>\n",
       "      <td>12/13/2022</td>\n",
       "      <td>6 bulan</td>\n",
       "      <td>Knowledge</td>\n",
       "      <td>Glocal Travel Umrah &amp; Tours</td>\n",
       "      <td>RM0.00</td>\n",
       "      <td>RM10,000.00</td>\n",
       "      <td>RM10,000.00</td>\n",
       "      <td>NaN</td>\n",
       "      <td>3.0</td>\n",
       "    </tr>\n",
       "  </tbody>\n",
       "</table>\n",
       "</div>"
      ],
      "text/plain": [
       "   No. Name of Principal Investigator / Project Leader  \\\n",
       "0    1                         Dr. Japareng Bin Lalung   \n",
       "1    2             Prof. Madya Dr. Aswati Binti Hamzah   \n",
       "2    3                   Dr. Norsila Binti Abdul Wahab   \n",
       "3    4                        Dr. Syazwani Binti Drani   \n",
       "4    5           Prof. Madya Dr. Mohd Hafizal Mohd Isa   \n",
       "\n",
       "                                 Name of the School Prjoect's Status  \\\n",
       "0                Pusat Pengajian Teknologi Industri           Active   \n",
       "1                  Pusat Pengajian Ilmu Pendidikan            Active   \n",
       "2                   Pusat Pengajian Sains Pergigian           Active   \n",
       "3              Pusat Pengajian Sains Kemasyarakatan           Active   \n",
       "4  Pusat Pengajian Perumahan Bangunan & Perancangan           Active   \n",
       "\n",
       "                                       Project Title  \\\n",
       "0  Empowering Students’ Leadership In Sustainable...   \n",
       "1  Empowering Pre-School Teachers Knowledge Attit...   \n",
       "2  Penanaman Cendawan di MACMA Kelantan Bagi Memb...   \n",
       "3         Pertubuhan Pemulihan Dalam Komuniti (PPDK)   \n",
       "4                                   USM-Fuze-Ecoteer   \n",
       "\n",
       "  RELATED RESEARCH PROJECT / INNOVATION Start Date    End Date  \\\n",
       "0                             Education  3/31/2022  12/31/2022   \n",
       "1                             Education   6/1/2022  12/31/2022   \n",
       "2                             Pertanian   6/1/2022   5/31/2023   \n",
       "3                                   OKU  2/24/2022   4/23/2023   \n",
       "4                          Persekitaran  5/13/2022  12/13/2022   \n",
       "\n",
       "  Length of Project (Months)  \\\n",
       "0                   10 bulan   \n",
       "1                    6 bulan   \n",
       "2                   12 bulan   \n",
       "3                   12 bulan   \n",
       "4                    6 bulan   \n",
       "\n",
       "  Kategori Projek (Knowledge / Technology Diffusion Projects)  \\\n",
       "0                                          Knowledge            \n",
       "1                                          Knowledge            \n",
       "2                                          Knowledge            \n",
       "3                                          Knowledge            \n",
       "4                                          Knowledge            \n",
       "\n",
       "                            Sponsor/ Funding Agency  \\\n",
       "0                          Penang Education Council   \n",
       "1                          Penang Education Council   \n",
       "2         Majlis Mesyuarat Kerajaan Negeri Kelantan   \n",
       "3  Jabatan Kebajikan Masyarakat Negeri Pulau Pinang   \n",
       "4                      Glocal Travel Umrah & Tours    \n",
       "\n",
       "  Total Funding / Total Allocation (RM) approved  \\\n",
       "0                                         RM0.00   \n",
       "1                                         RM0.00   \n",
       "2                                         RM0.00   \n",
       "3                                         RM0.00   \n",
       "4                                         RM0.00   \n",
       "\n",
       "  Total Funding from Community/Industry  \\\n",
       "0                           RM12,200.00   \n",
       "1                           RM11,950.00   \n",
       "2                           RM20,000.00   \n",
       "3                          RM173,727.00   \n",
       "4                           RM10,000.00   \n",
       "\n",
       "  Total Allocation received in the year assessed (RM)  \\\n",
       "0                                        RM12,200.00    \n",
       "1                                        RM11,950.00    \n",
       "2                                        RM20,000.00    \n",
       "3                                       RM173,727.00    \n",
       "4                                        RM10,000.00    \n",
       "\n",
       "   Total Expenses in the assessed year (RM)  Star Rating  \n",
       "0                                       NaN          3.0  \n",
       "1                                       NaN          3.0  \n",
       "2                                       NaN          3.0  \n",
       "3                                       NaN          3.0  \n",
       "4                                       NaN          3.0  "
      ]
     },
     "execution_count": 2,
     "metadata": {},
     "output_type": "execute_result"
    }
   ],
   "source": [
    "df=pd.read_csv(\"Desktop/Preprocessed_External.csv\")\n",
    "df.head()"
   ]
  },
  {
   "cell_type": "markdown",
   "id": "96accef4",
   "metadata": {},
   "source": [
    "# Assign numerical ratings based on the prefix in the investigator's name"
   ]
  },
  {
   "cell_type": "code",
   "execution_count": 3,
   "id": "4bcbcfd4",
   "metadata": {},
   "outputs": [
    {
     "name": "stdout",
     "output_type": "stream",
     "text": [
      "   No. Name of Principal Investigator / Project Leader  \\\n",
      "0    1                         Dr. Japareng Bin Lalung   \n",
      "1    2             Prof. Madya Dr. Aswati Binti Hamzah   \n",
      "2    3                   Dr. Norsila Binti Abdul Wahab   \n",
      "3    4                        Dr. Syazwani Binti Drani   \n",
      "4    5           Prof. Madya Dr. Mohd Hafizal Mohd Isa   \n",
      "\n",
      "                                 Name of the School Prjoect's Status  \\\n",
      "0                Pusat Pengajian Teknologi Industri           Active   \n",
      "1                  Pusat Pengajian Ilmu Pendidikan            Active   \n",
      "2                   Pusat Pengajian Sains Pergigian           Active   \n",
      "3              Pusat Pengajian Sains Kemasyarakatan           Active   \n",
      "4  Pusat Pengajian Perumahan Bangunan & Perancangan           Active   \n",
      "\n",
      "                                       Project Title  \\\n",
      "0  Empowering Students’ Leadership In Sustainable...   \n",
      "1  Empowering Pre-School Teachers Knowledge Attit...   \n",
      "2  Penanaman Cendawan di MACMA Kelantan Bagi Memb...   \n",
      "3         Pertubuhan Pemulihan Dalam Komuniti (PPDK)   \n",
      "4                                   USM-Fuze-Ecoteer   \n",
      "\n",
      "  RELATED RESEARCH PROJECT / INNOVATION Start Date    End Date  \\\n",
      "0                             Education  3/31/2022  12/31/2022   \n",
      "1                             Education   6/1/2022  12/31/2022   \n",
      "2                             Pertanian   6/1/2022   5/31/2023   \n",
      "3                                   OKU  2/24/2022   4/23/2023   \n",
      "4                          Persekitaran  5/13/2022  12/13/2022   \n",
      "\n",
      "  Length of Project (Months)  \\\n",
      "0                   10 bulan   \n",
      "1                    6 bulan   \n",
      "2                   12 bulan   \n",
      "3                   12 bulan   \n",
      "4                    6 bulan   \n",
      "\n",
      "  Kategori Projek (Knowledge / Technology Diffusion Projects)  \\\n",
      "0                                          Knowledge            \n",
      "1                                          Knowledge            \n",
      "2                                          Knowledge            \n",
      "3                                          Knowledge            \n",
      "4                                          Knowledge            \n",
      "\n",
      "                            Sponsor/ Funding Agency  \\\n",
      "0                          Penang Education Council   \n",
      "1                          Penang Education Council   \n",
      "2         Majlis Mesyuarat Kerajaan Negeri Kelantan   \n",
      "3  Jabatan Kebajikan Masyarakat Negeri Pulau Pinang   \n",
      "4                      Glocal Travel Umrah & Tours    \n",
      "\n",
      "  Total Funding / Total Allocation (RM) approved  \\\n",
      "0                                         RM0.00   \n",
      "1                                         RM0.00   \n",
      "2                                         RM0.00   \n",
      "3                                         RM0.00   \n",
      "4                                         RM0.00   \n",
      "\n",
      "  Total Funding from Community/Industry  \\\n",
      "0                           RM12,200.00   \n",
      "1                           RM11,950.00   \n",
      "2                           RM20,000.00   \n",
      "3                          RM173,727.00   \n",
      "4                           RM10,000.00   \n",
      "\n",
      "  Total Allocation received in the year assessed (RM)  \\\n",
      "0                                        RM12,200.00    \n",
      "1                                        RM11,950.00    \n",
      "2                                        RM20,000.00    \n",
      "3                                       RM173,727.00    \n",
      "4                                        RM10,000.00    \n",
      "\n",
      "   Total Expenses in the assessed year (RM)  Star Rating  Investigator_Rating  \n",
      "0                                       NaN          3.0                    1  \n",
      "1                                       NaN          3.0                    1  \n",
      "2                                       NaN          3.0                    1  \n",
      "3                                       NaN          3.0                    1  \n",
      "4                                       NaN          3.0                    1  \n"
     ]
    }
   ],
   "source": [
    "import pandas as pd\n",
    "\n",
    "# Assuming 'data' is loaded from a CSV file\n",
    "df=pd.read_csv(\"Desktop/Preprocessed_External.csv\")\n",
    "\n",
    "prefix_mapping = {\n",
    "    \"Dr.\": 1,\n",
    "    \"Prof.\": 2,\n",
    "    \"Prof. Madya Dr.\": 3,\n",
    "    \"Assoc. Prof. Dr.\": 4\n",
    "}\n",
    "\n",
    "def assign_category(name):\n",
    "    for prefix, value in prefix_mapping.items():\n",
    "        if prefix in name:\n",
    "            return value\n",
    "    return 0  # Default if no prefix matches\n",
    "\n",
    "df['Investigator_Rating'] = df['Name of Principal Investigator / Project Leader'].apply(assign_category)\n",
    "\n",
    "print(df.head())"
   ]
  },
  {
   "cell_type": "markdown",
   "id": "2f1ee2bf",
   "metadata": {},
   "source": [
    "# Predict project funding"
   ]
  },
  {
   "cell_type": "code",
   "execution_count": 4,
   "id": "2aeb2751",
   "metadata": {},
   "outputs": [
    {
     "data": {
      "text/html": [
       "<style>#sk-container-id-1 {color: black;background-color: white;}#sk-container-id-1 pre{padding: 0;}#sk-container-id-1 div.sk-toggleable {background-color: white;}#sk-container-id-1 label.sk-toggleable__label {cursor: pointer;display: block;width: 100%;margin-bottom: 0;padding: 0.3em;box-sizing: border-box;text-align: center;}#sk-container-id-1 label.sk-toggleable__label-arrow:before {content: \"▸\";float: left;margin-right: 0.25em;color: #696969;}#sk-container-id-1 label.sk-toggleable__label-arrow:hover:before {color: black;}#sk-container-id-1 div.sk-estimator:hover label.sk-toggleable__label-arrow:before {color: black;}#sk-container-id-1 div.sk-toggleable__content {max-height: 0;max-width: 0;overflow: hidden;text-align: left;background-color: #f0f8ff;}#sk-container-id-1 div.sk-toggleable__content pre {margin: 0.2em;color: black;border-radius: 0.25em;background-color: #f0f8ff;}#sk-container-id-1 input.sk-toggleable__control:checked~div.sk-toggleable__content {max-height: 200px;max-width: 100%;overflow: auto;}#sk-container-id-1 input.sk-toggleable__control:checked~label.sk-toggleable__label-arrow:before {content: \"▾\";}#sk-container-id-1 div.sk-estimator input.sk-toggleable__control:checked~label.sk-toggleable__label {background-color: #d4ebff;}#sk-container-id-1 div.sk-label input.sk-toggleable__control:checked~label.sk-toggleable__label {background-color: #d4ebff;}#sk-container-id-1 input.sk-hidden--visually {border: 0;clip: rect(1px 1px 1px 1px);clip: rect(1px, 1px, 1px, 1px);height: 1px;margin: -1px;overflow: hidden;padding: 0;position: absolute;width: 1px;}#sk-container-id-1 div.sk-estimator {font-family: monospace;background-color: #f0f8ff;border: 1px dotted black;border-radius: 0.25em;box-sizing: border-box;margin-bottom: 0.5em;}#sk-container-id-1 div.sk-estimator:hover {background-color: #d4ebff;}#sk-container-id-1 div.sk-parallel-item::after {content: \"\";width: 100%;border-bottom: 1px solid gray;flex-grow: 1;}#sk-container-id-1 div.sk-label:hover label.sk-toggleable__label {background-color: #d4ebff;}#sk-container-id-1 div.sk-serial::before {content: \"\";position: absolute;border-left: 1px solid gray;box-sizing: border-box;top: 0;bottom: 0;left: 50%;z-index: 0;}#sk-container-id-1 div.sk-serial {display: flex;flex-direction: column;align-items: center;background-color: white;padding-right: 0.2em;padding-left: 0.2em;position: relative;}#sk-container-id-1 div.sk-item {position: relative;z-index: 1;}#sk-container-id-1 div.sk-parallel {display: flex;align-items: stretch;justify-content: center;background-color: white;position: relative;}#sk-container-id-1 div.sk-item::before, #sk-container-id-1 div.sk-parallel-item::before {content: \"\";position: absolute;border-left: 1px solid gray;box-sizing: border-box;top: 0;bottom: 0;left: 50%;z-index: -1;}#sk-container-id-1 div.sk-parallel-item {display: flex;flex-direction: column;z-index: 1;position: relative;background-color: white;}#sk-container-id-1 div.sk-parallel-item:first-child::after {align-self: flex-end;width: 50%;}#sk-container-id-1 div.sk-parallel-item:last-child::after {align-self: flex-start;width: 50%;}#sk-container-id-1 div.sk-parallel-item:only-child::after {width: 0;}#sk-container-id-1 div.sk-dashed-wrapped {border: 1px dashed gray;margin: 0 0.4em 0.5em 0.4em;box-sizing: border-box;padding-bottom: 0.4em;background-color: white;}#sk-container-id-1 div.sk-label label {font-family: monospace;font-weight: bold;display: inline-block;line-height: 1.2em;}#sk-container-id-1 div.sk-label-container {text-align: center;}#sk-container-id-1 div.sk-container {/* jupyter's `normalize.less` sets `[hidden] { display: none; }` but bootstrap.min.css set `[hidden] { display: none !important; }` so we also need the `!important` here to be able to override the default hidden behavior on the sphinx rendered scikit-learn.org. See: https://github.com/scikit-learn/scikit-learn/issues/21755 */display: inline-block !important;position: relative;}#sk-container-id-1 div.sk-text-repr-fallback {display: none;}</style><div id=\"sk-container-id-1\" class=\"sk-top-container\"><div class=\"sk-text-repr-fallback\"><pre>RandomForestRegressor(random_state=42)</pre><b>In a Jupyter environment, please rerun this cell to show the HTML representation or trust the notebook. <br />On GitHub, the HTML representation is unable to render, please try loading this page with nbviewer.org.</b></div><div class=\"sk-container\" hidden><div class=\"sk-item\"><div class=\"sk-estimator sk-toggleable\"><input class=\"sk-toggleable__control sk-hidden--visually\" id=\"sk-estimator-id-1\" type=\"checkbox\" checked><label for=\"sk-estimator-id-1\" class=\"sk-toggleable__label sk-toggleable__label-arrow\">RandomForestRegressor</label><div class=\"sk-toggleable__content\"><pre>RandomForestRegressor(random_state=42)</pre></div></div></div></div></div>"
      ],
      "text/plain": [
       "RandomForestRegressor(random_state=42)"
      ]
     },
     "execution_count": 4,
     "metadata": {},
     "output_type": "execute_result"
    }
   ],
   "source": [
    "import pandas as pd\n",
    "from sklearn.model_selection import train_test_split\n",
    "from sklearn.ensemble import RandomForestRegressor\n",
    "\n",
    "# Read the CSV file into the 'df' variable\n",
    "df = pd.read_csv(\"Desktop/Preprocessed_External.csv\")\n",
    "\n",
    "prefix_mapping = {\n",
    "    \"Dr.\": 1,\n",
    "    \"Prof.\": 2,\n",
    "    \"Prof. Madya Dr.\": 3,\n",
    "    \"Assoc. Prof. Dr.\": 4\n",
    "}\n",
    "\n",
    "def assign_category(name):\n",
    "    for prefix, value in prefix_mapping.items():\n",
    "        if prefix in name:\n",
    "            return value\n",
    "    return 0  # Default if no prefix matches\n",
    "\n",
    "# Assign investigator rating based on name\n",
    "df['Investigator_Rating'] = df['Name of Principal Investigator / Project Leader'].apply(assign_category)\n",
    "\n",
    "# Convert funding columns to numeric (handling empty strings)\n",
    "funding_cols = ['Total Funding / Total Allocation (RM) approved',\n",
    "                'Total Funding from Community/Industry',\n",
    "                'Total Allocation received in the year assessed (RM)',\n",
    "                'Total Expenses in the assessed year (RM)']\n",
    "\n",
    "\n",
    "\n",
    "\n",
    "for col in funding_cols:\n",
    "    # Convert non-string values to strings first\n",
    "    df[col] = df[col].astype(str)\n",
    "    # Remove any non-numeric characters and convert to numeric\n",
    "    df[col] = pd.to_numeric(df[col].str.replace(r'[^\\d.]', '', regex=True), errors='coerce')\n",
    "\n",
    "# Drop rows with NaN values in relevant columns\n",
    "df = df.dropna(subset=['Investigator_Rating', 'Total Funding from Community/Industry'])\n",
    "\n",
    "# Select features and target\n",
    "X = df[['Investigator_Rating']]\n",
    "Y = df['Total Funding from Community/Industry']\n",
    "\n",
    "# Rest of your code remains the same\n",
    "X_train, X_test, y_train, y_test = train_test_split(X, Y, test_size=0.2, random_state=42)\n",
    "regressor = RandomForestRegressor(random_state=42)\n",
    "regressor.fit(X_train, y_train)\n"
   ]
  },
  {
   "cell_type": "code",
   "execution_count": 5,
   "id": "02266524",
   "metadata": {},
   "outputs": [
    {
     "name": "stdout",
     "output_type": "stream",
     "text": [
      "Mean Squared Error: 2249386946159.29\n",
      "R² Score: 0.07\n",
      "Cross-validation scores: -2.63 (+/- 7.69)\n"
     ]
    },
    {
     "data": {
      "image/png": "[encoded data removed]",
      "text/plain": [
       "<Figure size 1000x600 with 1 Axes>"
      ]
     },
     "metadata": {},
     "output_type": "display_data"
    }
   ],
   "source": [
    "import pandas as pd\n",
    "import numpy as np\n",
    "from sklearn.model_selection import train_test_split, cross_val_score\n",
    "from sklearn.ensemble import RandomForestRegressor\n",
    "from sklearn.metrics import mean_squared_error, r2_score\n",
    "import matplotlib.pyplot as plt\n",
    "\n",
    "# Prefix mapping with more granular ratings\n",
    "prefix_mapping = {\n",
    "    \"Dr.\": 1,\n",
    "    \"Prof.\": 2,\n",
    "    \"Prof. Madya Dr.\": 3,\n",
    "    \"Assoc. Prof. Dr.\": 4\n",
    "}\n",
    "\n",
    "def preprocess_data(df):\n",
    "    \"\"\"\n",
    "    Preprocesses the dataframe by cleaning funding columns and creating investigator ratings\n",
    "    \"\"\"\n",
    "    # Create investigator rating based on name\n",
    "    df['Investigator_Rating'] = df['Name of Principal Investigator / Project Leader'].apply(\n",
    "        lambda x: next((v for k, v in prefix_mapping.items() if k in str(x)), 0)\n",
    "    )\n",
    "    \n",
    "    # Convert funding columns to numeric\n",
    "    funding_cols = [\n",
    "        'Total Funding / Total Allocation (RM) approved',\n",
    "        'Total Funding from Community/Industry',\n",
    "        'Total Allocation received in the year assessed (RM)',\n",
    "        'Total Expenses in the assessed year (RM)'\n",
    "    ]\n",
    "    \n",
    "    for col in funding_cols:\n",
    "        df[col] = pd.to_numeric(\n",
    "            df[col].astype(str).str.replace(r'[^\\d.]', '', regex=True), \n",
    "            errors='coerce'\n",
    "        )\n",
    "    \n",
    "    # Drop rows with missing values\n",
    "    df = df.dropna(subset=['Investigator_Rating', 'Total Funding from Community/Industry'])\n",
    "    \n",
    "    return df\n",
    "\n",
    "def train_and_evaluate_model(X, y):\n",
    "    \"\"\"\n",
    "    Trains and evaluates the Random Forest model with cross-validation\n",
    "    \"\"\"\n",
    "    # Split the data\n",
    "    X_train, X_test, y_train, y_test = train_test_split(\n",
    "        X, y, test_size=0.2, random_state=42\n",
    "    )\n",
    "    \n",
    "    # Initialize and train the model\n",
    "    regressor = RandomForestRegressor(\n",
    "        n_estimators=100,\n",
    "        max_depth=10,\n",
    "        min_samples_split=5,\n",
    "        random_state=42\n",
    "    )\n",
    "    regressor.fit(X_train, y_train)\n",
    "    \n",
    "    # Make predictions\n",
    "    y_pred = regressor.predict(X_test)\n",
    "    \n",
    "    # Calculate metrics\n",
    "    mse = mean_squared_error(y_test, y_pred)\n",
    "    r2 = r2_score(y_test, y_pred)\n",
    "    \n",
    "    # Perform cross-validation\n",
    "    cv_scores = cross_val_score(regressor, X, y, cv=5)\n",
    "    \n",
    "    return {\n",
    "        'model': regressor,\n",
    "        'mse': mse,\n",
    "        'r2': r2,\n",
    "        'cv_scores': cv_scores,\n",
    "        'y_test': y_test,\n",
    "        'y_pred': y_pred\n",
    "    }\n",
    "\n",
    "def plot_results(y_test, y_pred):\n",
    "    \"\"\"\n",
    "    Creates visualization of actual vs predicted values\n",
    "    \"\"\"\n",
    "    plt.figure(figsize=(10, 6))\n",
    "    plt.scatter(y_test, y_pred, alpha=0.5)\n",
    "    plt.plot([y_test.min(), y_test.max()], [y_test.min(), y_test.max()], 'r--', lw=2)\n",
    "    plt.xlabel('Actual Funding')\n",
    "    plt.ylabel('Predicted Funding')\n",
    "    plt.title('Actual vs Predicted Funding')\n",
    "    plt.tight_layout()\n",
    "    return plt\n",
    "\n",
    "# Main execution\n",
    "if __name__ == \"__main__\":\n",
    "    # Read and preprocess data\n",
    "    df = pd.read_csv(\"Desktop/Preprocessed_External.csv\")\n",
    "    df_processed = preprocess_data(df)\n",
    "    \n",
    "    # Prepare features and target\n",
    "    X = df_processed[['Investigator_Rating']]\n",
    "    y = df_processed['Total Funding from Community/Industry']\n",
    "    \n",
    "    # Train and evaluate model\n",
    "    results = train_and_evaluate_model(X, y)\n",
    "    \n",
    "    # Print results\n",
    "    print(f\"Mean Squared Error: {results['mse']:.2f}\")\n",
    "    print(f\"R² Score: {results['r2']:.2f}\")\n",
    "    print(f\"Cross-validation scores: {results['cv_scores'].mean():.2f} (+/- {results['cv_scores'].std() * 2:.2f})\")\n",
    "    \n",
    "    # Plot results\n",
    "    plot_results(results['y_test'], results['y_pred'])"
   ]
  },
  {
   "cell_type": "markdown",
   "id": "762d4f66",
   "metadata": {},
   "source": [
    "# Best feature selection analysis"
   ]
  },
  {
   "cell_type": "code",
   "execution_count": 6,
   "id": "80a89472",
   "metadata": {},
   "outputs": [],
   "source": [
    "# Select the top features using SelectKBest\n",
    "selector = SelectKBest(score_func=f_regression, k='all')\n",
    "selector.fit(X_train, y_train)\n",
    "feature_scores = selector.scores_\n",
    "feature_names = X_train.columns\n",
    "feature_importances = pd.DataFrame({'Feature': feature_names, 'Score': feature_scores})"
   ]
  },
  {
   "cell_type": "markdown",
   "id": "8a3d7e04",
   "metadata": {},
   "source": [
    "# Valuable allocation explainable model"
   ]
  },
  {
   "cell_type": "code",
   "execution_count": 7,
   "id": "94150066",
   "metadata": {},
   "outputs": [
    {
     "data": {
      "image/png": "[encoded data removed]",
      "text/plain": [
       "<Figure size 800x190 with 2 Axes>"
      ]
     },
     "metadata": {},
     "output_type": "display_data"
    }
   ],
   "source": [
    "# Use SHAP to explain feature importance\n",
    "explainer = shap.Explainer(regressor, X_train)\n",
    "shap_values = explainer(X_test)\n",
    "\n",
    "# Plot SHAP values\n",
    "shap.summary_plot(shap_values, X_test)\n"
   ]
  },
  {
   "cell_type": "markdown",
   "id": "ff4e462d",
   "metadata": {},
   "source": [
    "# Trend analysis and future prediction"
   ]
  },
  {
   "cell_type": "code",
   "execution_count": 8,
   "id": "ea9e7fba",
   "metadata": {},
   "outputs": [
    {
     "name": "stdout",
     "output_type": "stream",
     "text": [
      "Feature Importance:\n",
      "                Feature     Score\n",
      "0  Investigator_Rating  3.351734\n",
      "Next Year Predicted Allocation: 9967059.505999565\n"
     ]
    },
    {
     "data": {
      "image/png": "[encoded data removed]",
      "text/plain": [
       "<Figure size 1000x600 with 1 Axes>"
      ]
     },
     "metadata": {},
     "output_type": "display_data"
    }
   ],
   "source": [
    "# Add a column for year from 'Start Date'\n",
    "df['Start Year'] = pd.to_datetime(df['Start Date'], errors='coerce').dt.year\n",
    "\n",
    "# Group by year and sum allocations\n",
    "yearly_allocations = df.groupby('Start Year')['Total Allocation received in the year assessed (RM)'].sum()\n",
    "yearly_allocations = yearly_allocations.dropna()\n",
    "\n",
    "# Fit a simple linear model for trend analysis\n",
    "from sklearn.linear_model import LinearRegression\n",
    "\n",
    "years = yearly_allocations.index.values.reshape(-1, 1)\n",
    "allocations = yearly_allocations.values\n",
    "trend_model = LinearRegression()\n",
    "trend_model.fit(years, allocations)\n",
    "\n",
    "# Predict for the next year\n",
    "next_year = np.array([[years[-1][0] + 1]])\n",
    "next_year_prediction = trend_model.predict(next_year)\n",
    "\n",
    "# Output results\n",
    "print(\"Feature Importance:\\n\", feature_importances)\n",
    "print(\"Next Year Predicted Allocation:\", next_year_prediction[0])\n",
    "\n",
    "# Plot trend\n",
    "plt.figure(figsize=(10, 6))\n",
    "plt.scatter(years, allocations, color='blue', label='Actual Allocations')\n",
    "plt.plot(years, trend_model.predict(years), color='red', label='Trend Line')\n",
    "plt.scatter(next_year, next_year_prediction, color='green', label='Prediction for Next Year')\n",
    "plt.xlabel('Year')\n",
    "plt.ylabel('Total Allocation (RM)')\n",
    "plt.title('Yearly Allocation Trend')\n",
    "plt.legend()\n",
    "plt.show()\n"
   ]
  },
  {
   "cell_type": "code",
   "execution_count": 9,
   "id": "8a9e0cd4",
   "metadata": {},
   "outputs": [
    {
     "name": "stdout",
     "output_type": "stream",
     "text": [
      "Feature Importance:\n",
      "                Feature     Score\n",
      "0  Investigator_Rating  3.351734\n",
      "Predicted Allocation for 2025: 12005849.259999752\n"
     ]
    },
    {
     "data": {
      "image/png": "[encoded data removed]",
      "text/plain": [
       "<Figure size 1000x600 with 1 Axes>"
      ]
     },
     "metadata": {},
     "output_type": "display_data"
    }
   ],
   "source": [
    "# Add a column for year from 'Start Date'\n",
    "df['Start Year'] = pd.to_datetime(df['Start Date'], errors='coerce').dt.year\n",
    "\n",
    "# Group by year and sum allocations\n",
    "yearly_allocations = df.groupby('Start Year')['Total Allocation received in the year assessed (RM)'].sum()\n",
    "yearly_allocations = yearly_allocations.dropna()\n",
    "\n",
    "# Fit a simple linear model for trend analysis\n",
    "from sklearn.linear_model import LinearRegression\n",
    "\n",
    "years = yearly_allocations.index.values.reshape(-1, 1)\n",
    "allocations = yearly_allocations.values\n",
    "trend_model = LinearRegression()\n",
    "trend_model.fit(years, allocations)\n",
    "\n",
    "# Predict for the year 2025\n",
    "next_year = np.array([[2025]])\n",
    "next_year_prediction = trend_model.predict(next_year)\n",
    "\n",
    "# Output results\n",
    "print(\"Feature Importance:\\n\", feature_importances)\n",
    "print(\"Predicted Allocation for 2025:\", next_year_prediction[0])\n",
    "\n",
    "# Plot trend\n",
    "plt.figure(figsize=(10, 6))\n",
    "plt.scatter(years, allocations, color='blue', label='Actual Allocations')\n",
    "plt.plot(years, trend_model.predict(years), color='red', label='Trend Line')\n",
    "plt.scatter(next_year, next_year_prediction, color='green', label='Prediction for 2025')\n",
    "plt.xlabel('Year')\n",
    "plt.ylabel('Total Allocation (RM)')\n",
    "plt.title('Yearly Allocation Trend')\n",
    "plt.legend()\n",
    "plt.show()\n"
   ]
  },
  {
   "cell_type": "code",
   "execution_count": null,
   "id": "110f34e8",
   "metadata": {},
   "outputs": [],
   "source": []
  }
 ],
 "metadata": {
  "kernelspec": {
   "display_name": "Python 3 (ipykernel)",
   "language": "python",
   "name": "python3"
  },
  "language_info": {
   "codemirror_mode": {
    "name": "ipython",
    "version": 3
   },
   "file_extension": ".py",
   "mimetype": "text/x-python",
   "name": "python",
   "nbconvert_exporter": "python",
   "pygments_lexer": "ipython3",
   "version": "3.10.9"
  }
 },
 "nbformat": 4,
 "nbformat_minor": 5
}
